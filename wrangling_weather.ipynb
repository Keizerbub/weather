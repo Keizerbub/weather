{
  "cells": [
    {
      "cell_type": "markdown",
      "metadata": {
        "id": "view-in-github",
        "colab_type": "text"
      },
      "source": [
        "<a href=\"https://colab.research.google.com/github/Keizerbub/weather/blob/main/wrangling_weather.ipynb\" target=\"_parent\"><img src=\"https://colab.research.google.com/assets/colab-badge.svg\" alt=\"Open In Colab\"/></a>"
      ]
    },
    {
      "cell_type": "markdown",
      "metadata": {
        "id": "W7hN_a1sAJDc"
      },
      "source": [
        "#Import framework"
      ]
    },
    {
      "cell_type": "code",
      "execution_count": 1,
      "metadata": {
        "colab": {
          "base_uri": "https://localhost:8080/"
        },
        "id": "cHZ7reBiAQG5",
        "outputId": "a65ba8dc-0b2c-4279-d273-4c59857f2fe4"
      },
      "outputs": [
        {
          "output_type": "stream",
          "name": "stdout",
          "text": [
            "Requirement already satisfied: pyspark in /usr/local/lib/python3.10/dist-packages (3.5.0)\n",
            "Requirement already satisfied: py4j==0.10.9.7 in /usr/local/lib/python3.10/dist-packages (from pyspark) (0.10.9.7)\n"
          ]
        }
      ],
      "source": [
        "!pip install pyspark"
      ]
    },
    {
      "cell_type": "code",
      "execution_count": 2,
      "metadata": {
        "id": "iRVYxUDA_mV1"
      },
      "outputs": [],
      "source": [
        "import pandas as pd\n",
        "import os\n",
        "import gzip\n",
        "import shutil\n",
        "from pyspark.sql import SparkSession\n",
        "from pyspark.sql.functions import lit\n",
        "import pandas as pd"
      ]
    },
    {
      "cell_type": "markdown",
      "metadata": {
        "id": "pDbwIX99Amm9"
      },
      "source": [
        "#ouverture des fichiers"
      ]
    },
    {
      "cell_type": "code",
      "source": [
        "class Wrangling:\n",
        "    def __init__(self):\n",
        "        self.spark = SparkSession.builder \\\n",
        "            .appName(\"HandlingFile\") \\\n",
        "            .getOrCreate()\n",
        "\n",
        "    def open_file(self, file_path):\n",
        "        try:\n",
        "            self.df = self.spark.read.csv(file_path, header=True, inferSchema=True, sep=\";\")\n",
        "            return self.df\n",
        "        except Exception as e:\n",
        "            print(\"Error occurred:\", e)\n",
        "            return None\n",
        "\n",
        "    def close_spark(self):\n",
        "        self.spark.stop()\n",
        "\n",
        "    def select_columns(self, *columns):\n",
        "        if not columns:\n",
        "            columns = ['LAT', 'LON', 'AAAAMMJJHH', 'RR1', 'FF', 'TN50']\n",
        "\n",
        "        try:\n",
        "            self.df = self.df.select(*columns)\n",
        "            return self.df\n",
        "        except Exception as e:\n",
        "            print(\"Error occurred:\", e)\n",
        "            return None\n",
        "\n",
        "    def check_column_null(self, column_name):\n",
        "        try:\n",
        "            null_count = self.df.filter(self.df[column_name].isNull()).count()\n",
        "            total_rows = self.df.count()\n",
        "            null_percentage = (null_count / total_rows) * 100\n",
        "            return null_percentage\n",
        "        except Exception as e:\n",
        "            print(\"Error occurred:\", e)\n",
        "            return None\n",
        "\n",
        "    def check_all_columns_null(self):\n",
        "        null_percentages = {}\n",
        "        try:\n",
        "            columns = self.df.columns\n",
        "            for col in columns:\n",
        "                null_percentage = self.check_column_null(col)\n",
        "                null_percentages[col] = null_percentage\n",
        "\n",
        "            return null_percentages\n",
        "        except Exception as e:\n",
        "            print(\"Error occurred:\", e)\n",
        "            return None\n",
        "\n",
        "    def process_folder(self, folder_path):\n",
        "        try:\n",
        "            if os.path.isfile(folder_path):\n",
        "                file_paths = [folder_path]\n",
        "            elif os.path.isdir(folder_path):\n",
        "                file_paths = [os.path.join(folder_path, f) for f in os.listdir(folder_path) if f.endswith('.csv')]\n",
        "            else:\n",
        "                print(\"Invalid folder path or file path provided.\")\n",
        "                return None\n",
        "\n",
        "            result_dict = {}\n",
        "\n",
        "            for file_path in file_paths:\n",
        "                file_name = os.path.basename(file_path)\n",
        "                self.open_file(file_path)\n",
        "                self.select_columns()\n",
        "                null_percentages = self.check_all_columns_null()\n",
        "                null_percentages['nom'] = file_name  # Ajouter le nom de fichier dans le dictionnaire\n",
        "                result_dict[file_name] = null_percentages\n",
        "\n",
        "            # Convertir le dictionnaire en DataFrame\n",
        "            df_result = pd.DataFrame.from_dict(result_dict, orient='index')\n",
        "\n",
        "            return df_result\n",
        "        except Exception as e:\n",
        "            print(\"Error occurred:\", e)\n",
        "            return None"
      ],
      "metadata": {
        "id": "zYMJJfaSDc7O"
      },
      "execution_count": 15,
      "outputs": []
    },
    {
      "cell_type": "code",
      "source": [
        "data=Wrangling()"
      ],
      "metadata": {
        "id": "1-cbVxGMDtgT"
      },
      "execution_count": 16,
      "outputs": []
    },
    {
      "cell_type": "code",
      "source": [
        "data.process_folder(folder_path=\"/content/H_59__combined.csv\")"
      ],
      "metadata": {
        "id": "LQp7wNkADzkI",
        "outputId": "f579ce2f-a499-4c20-d5be-7ac628ab137e",
        "colab": {
          "base_uri": "https://localhost:8080/",
          "height": 81
        }
      },
      "execution_count": 17,
      "outputs": [
        {
          "output_type": "execute_result",
          "data": {
            "text/plain": [
              "                    LAT  LON  AAAAMMJJHH       RR1         FF       TN50  \\\n",
              "H_59__combined.csv  0.0  0.0         0.0  4.545624  17.209192  82.832443   \n",
              "\n",
              "                                   nom  \n",
              "H_59__combined.csv  H_59__combined.csv  "
            ],
            "text/html": [
              "\n",
              "  <div id=\"df-9b129233-f417-41a2-aa54-6e92c6b612d8\" class=\"colab-df-container\">\n",
              "    <div>\n",
              "<style scoped>\n",
              "    .dataframe tbody tr th:only-of-type {\n",
              "        vertical-align: middle;\n",
              "    }\n",
              "\n",
              "    .dataframe tbody tr th {\n",
              "        vertical-align: top;\n",
              "    }\n",
              "\n",
              "    .dataframe thead th {\n",
              "        text-align: right;\n",
              "    }\n",
              "</style>\n",
              "<table border=\"1\" class=\"dataframe\">\n",
              "  <thead>\n",
              "    <tr style=\"text-align: right;\">\n",
              "      <th></th>\n",
              "      <th>LAT</th>\n",
              "      <th>LON</th>\n",
              "      <th>AAAAMMJJHH</th>\n",
              "      <th>RR1</th>\n",
              "      <th>FF</th>\n",
              "      <th>TN50</th>\n",
              "      <th>nom</th>\n",
              "    </tr>\n",
              "  </thead>\n",
              "  <tbody>\n",
              "    <tr>\n",
              "      <th>H_59__combined.csv</th>\n",
              "      <td>0.0</td>\n",
              "      <td>0.0</td>\n",
              "      <td>0.0</td>\n",
              "      <td>4.545624</td>\n",
              "      <td>17.209192</td>\n",
              "      <td>82.832443</td>\n",
              "      <td>H_59__combined.csv</td>\n",
              "    </tr>\n",
              "  </tbody>\n",
              "</table>\n",
              "</div>\n",
              "    <div class=\"colab-df-buttons\">\n",
              "\n",
              "  <div class=\"colab-df-container\">\n",
              "    <button class=\"colab-df-convert\" onclick=\"convertToInteractive('df-9b129233-f417-41a2-aa54-6e92c6b612d8')\"\n",
              "            title=\"Convert this dataframe to an interactive table.\"\n",
              "            style=\"display:none;\">\n",
              "\n",
              "  <svg xmlns=\"http://www.w3.org/2000/svg\" height=\"24px\" viewBox=\"0 -960 960 960\">\n",
              "    <path d=\"M120-120v-720h720v720H120Zm60-500h600v-160H180v160Zm220 220h160v-160H400v160Zm0 220h160v-160H400v160ZM180-400h160v-160H180v160Zm440 0h160v-160H620v160ZM180-180h160v-160H180v160Zm440 0h160v-160H620v160Z\"/>\n",
              "  </svg>\n",
              "    </button>\n",
              "\n",
              "  <style>\n",
              "    .colab-df-container {\n",
              "      display:flex;\n",
              "      gap: 12px;\n",
              "    }\n",
              "\n",
              "    .colab-df-convert {\n",
              "      background-color: #E8F0FE;\n",
              "      border: none;\n",
              "      border-radius: 50%;\n",
              "      cursor: pointer;\n",
              "      display: none;\n",
              "      fill: #1967D2;\n",
              "      height: 32px;\n",
              "      padding: 0 0 0 0;\n",
              "      width: 32px;\n",
              "    }\n",
              "\n",
              "    .colab-df-convert:hover {\n",
              "      background-color: #E2EBFA;\n",
              "      box-shadow: 0px 1px 2px rgba(60, 64, 67, 0.3), 0px 1px 3px 1px rgba(60, 64, 67, 0.15);\n",
              "      fill: #174EA6;\n",
              "    }\n",
              "\n",
              "    .colab-df-buttons div {\n",
              "      margin-bottom: 4px;\n",
              "    }\n",
              "\n",
              "    [theme=dark] .colab-df-convert {\n",
              "      background-color: #3B4455;\n",
              "      fill: #D2E3FC;\n",
              "    }\n",
              "\n",
              "    [theme=dark] .colab-df-convert:hover {\n",
              "      background-color: #434B5C;\n",
              "      box-shadow: 0px 1px 3px 1px rgba(0, 0, 0, 0.15);\n",
              "      filter: drop-shadow(0px 1px 2px rgba(0, 0, 0, 0.3));\n",
              "      fill: #FFFFFF;\n",
              "    }\n",
              "  </style>\n",
              "\n",
              "    <script>\n",
              "      const buttonEl =\n",
              "        document.querySelector('#df-9b129233-f417-41a2-aa54-6e92c6b612d8 button.colab-df-convert');\n",
              "      buttonEl.style.display =\n",
              "        google.colab.kernel.accessAllowed ? 'block' : 'none';\n",
              "\n",
              "      async function convertToInteractive(key) {\n",
              "        const element = document.querySelector('#df-9b129233-f417-41a2-aa54-6e92c6b612d8');\n",
              "        const dataTable =\n",
              "          await google.colab.kernel.invokeFunction('convertToInteractive',\n",
              "                                                    [key], {});\n",
              "        if (!dataTable) return;\n",
              "\n",
              "        const docLinkHtml = 'Like what you see? Visit the ' +\n",
              "          '<a target=\"_blank\" href=https://colab.research.google.com/notebooks/data_table.ipynb>data table notebook</a>'\n",
              "          + ' to learn more about interactive tables.';\n",
              "        element.innerHTML = '';\n",
              "        dataTable['output_type'] = 'display_data';\n",
              "        await google.colab.output.renderOutput(dataTable, element);\n",
              "        const docLink = document.createElement('div');\n",
              "        docLink.innerHTML = docLinkHtml;\n",
              "        element.appendChild(docLink);\n",
              "      }\n",
              "    </script>\n",
              "  </div>\n",
              "\n",
              "    </div>\n",
              "  </div>\n"
            ],
            "application/vnd.google.colaboratory.intrinsic+json": {
              "type": "dataframe",
              "summary": "{\n  \"name\": \"data\",\n  \"rows\": 1,\n  \"fields\": [\n    {\n      \"column\": \"LAT\",\n      \"properties\": {\n        \"dtype\": \"number\",\n        \"std\": NaN,\n        \"min\": 0.0,\n        \"max\": 0.0,\n        \"samples\": [\n          0.0\n        ],\n        \"num_unique_values\": 1,\n        \"semantic_type\": \"\",\n        \"description\": \"\"\n      }\n    },\n    {\n      \"column\": \"LON\",\n      \"properties\": {\n        \"dtype\": \"number\",\n        \"std\": NaN,\n        \"min\": 0.0,\n        \"max\": 0.0,\n        \"samples\": [\n          0.0\n        ],\n        \"num_unique_values\": 1,\n        \"semantic_type\": \"\",\n        \"description\": \"\"\n      }\n    },\n    {\n      \"column\": \"AAAAMMJJHH\",\n      \"properties\": {\n        \"dtype\": \"number\",\n        \"std\": NaN,\n        \"min\": 0.0,\n        \"max\": 0.0,\n        \"samples\": [\n          0.0\n        ],\n        \"num_unique_values\": 1,\n        \"semantic_type\": \"\",\n        \"description\": \"\"\n      }\n    },\n    {\n      \"column\": \"RR1\",\n      \"properties\": {\n        \"dtype\": \"number\",\n        \"std\": NaN,\n        \"min\": 4.545624154299058,\n        \"max\": 4.545624154299058,\n        \"samples\": [\n          4.545624154299058\n        ],\n        \"num_unique_values\": 1,\n        \"semantic_type\": \"\",\n        \"description\": \"\"\n      }\n    },\n    {\n      \"column\": \"FF\",\n      \"properties\": {\n        \"dtype\": \"number\",\n        \"std\": NaN,\n        \"min\": 17.209191799573052,\n        \"max\": 17.209191799573052,\n        \"samples\": [\n          17.209191799573052\n        ],\n        \"num_unique_values\": 1,\n        \"semantic_type\": \"\",\n        \"description\": \"\"\n      }\n    },\n    {\n      \"column\": \"TN50\",\n      \"properties\": {\n        \"dtype\": \"number\",\n        \"std\": NaN,\n        \"min\": 82.83244270836401,\n        \"max\": 82.83244270836401,\n        \"samples\": [\n          82.83244270836401\n        ],\n        \"num_unique_values\": 1,\n        \"semantic_type\": \"\",\n        \"description\": \"\"\n      }\n    },\n    {\n      \"column\": \"nom\",\n      \"properties\": {\n        \"dtype\": \"string\",\n        \"samples\": [\n          \"H_59__combined.csv\"\n        ],\n        \"num_unique_values\": 1,\n        \"semantic_type\": \"\",\n        \"description\": \"\"\n      }\n    }\n  ]\n}"
            }
          },
          "metadata": {},
          "execution_count": 17
        }
      ]
    }
  ],
  "metadata": {
    "colab": {
      "provenance": [],
      "mount_file_id": "https://github.com/Keizerbub/weather/blob/main/wrangling_weather.ipynb",
      "authorship_tag": "ABX9TyNlQl+QkgHOIl0Ab8GcMadU",
      "include_colab_link": true
    },
    "kernelspec": {
      "display_name": "Python 3",
      "name": "python3"
    },
    "language_info": {
      "name": "python"
    }
  },
  "nbformat": 4,
  "nbformat_minor": 0
}