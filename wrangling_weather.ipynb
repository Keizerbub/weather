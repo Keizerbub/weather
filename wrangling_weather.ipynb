{
  "cells": [
    {
      "cell_type": "markdown",
      "metadata": {
        "id": "view-in-github",
        "colab_type": "text"
      },
      "source": [
        "<a href=\"https://colab.research.google.com/github/Keizerbub/weather/blob/main/wrangling_weather.ipynb\" target=\"_parent\"><img src=\"https://colab.research.google.com/assets/colab-badge.svg\" alt=\"Open In Colab\"/></a>"
      ]
    },
    {
      "cell_type": "markdown",
      "metadata": {
        "id": "W7hN_a1sAJDc"
      },
      "source": [
        "#Import framework"
      ]
    },
    {
      "cell_type": "code",
      "execution_count": 1,
      "metadata": {
        "colab": {
          "base_uri": "https://localhost:8080/"
        },
        "id": "cHZ7reBiAQG5",
        "outputId": "16709cae-fee3-4c67-e325-50bdf00d3cd6"
      },
      "outputs": [
        {
          "output_type": "stream",
          "name": "stdout",
          "text": [
            "Collecting pyspark\n",
            "  Downloading pyspark-3.5.0.tar.gz (316.9 MB)\n",
            "\u001b[2K     \u001b[90m━━━━━━━━━━━━━━━━━━━━━━━━━━━━━━━━━━━━━━━━\u001b[0m \u001b[32m316.9/316.9 MB\u001b[0m \u001b[31m3.5 MB/s\u001b[0m eta \u001b[36m0:00:00\u001b[0m\n",
            "\u001b[?25h  Preparing metadata (setup.py) ... \u001b[?25l\u001b[?25hdone\n",
            "Requirement already satisfied: py4j==0.10.9.7 in /usr/local/lib/python3.10/dist-packages (from pyspark) (0.10.9.7)\n",
            "Building wheels for collected packages: pyspark\n",
            "  Building wheel for pyspark (setup.py) ... \u001b[?25l\u001b[?25hdone\n",
            "  Created wheel for pyspark: filename=pyspark-3.5.0-py2.py3-none-any.whl size=317425345 sha256=520aa6a6e487c60f31c79b97c160abc54e00580f6a3b872e3d09030d3ea025e1\n",
            "  Stored in directory: /root/.cache/pip/wheels/41/4e/10/c2cf2467f71c678cfc8a6b9ac9241e5e44a01940da8fbb17fc\n",
            "Successfully built pyspark\n",
            "Installing collected packages: pyspark\n",
            "Successfully installed pyspark-3.5.0\n"
          ]
        }
      ],
      "source": [
        "!pip install pyspark"
      ]
    },
    {
      "cell_type": "code",
      "execution_count": 2,
      "metadata": {
        "id": "iRVYxUDA_mV1"
      },
      "outputs": [],
      "source": [
        "import pandas as pd\n",
        "import os\n",
        "import gzip\n",
        "import shutil\n",
        "from pyspark.sql import SparkSession"
      ]
    },
    {
      "cell_type": "markdown",
      "metadata": {
        "id": "pDbwIX99Amm9"
      },
      "source": [
        "#ouverture des fichiers"
      ]
    },
    {
      "cell_type": "code",
      "execution_count": 3,
      "metadata": {
        "id": "5-tNrKcwA3Bc"
      },
      "outputs": [],
      "source": [
        "\"\"\"ouverture des fichiers\"\"\"\n",
        "class wrangling:\n",
        "    def __init__(self):\n",
        "        self.spark = SparkSession.builder \\\n",
        "            .appName(\"HandlingFile\") \\\n",
        "            .getOrCreate()\n",
        "\n",
        "\n",
        "\n",
        "    def open_file(self, file_path):\n",
        "        try:\n",
        "            # Read the file into a DataFrame\n",
        "            self.df = self.spark.read.csv(file_path, header=True, inferSchema=True, sep=\";\")  # Example for reading a CSV file\n",
        "            # If it's a different type of file, use the appropriate method like `spark.read.json()`, etc.\n",
        "\n",
        "            # Show the DataFrame content\n",
        "            self.df.show()\n",
        "\n",
        "        except Exception as e:\n",
        "            print(\"Error occurred:\", e)\n",
        "\n",
        "\n",
        "\n",
        "    def close_spark(self):\n",
        "        # Stop the SparkSession\n",
        "        self.spark.stop()\n",
        "\n",
        "\n",
        "\n",
        "    def select_columns(self, *columns):\n",
        "        try:\n",
        "            # Select only the desired columns\n",
        "            self.df = self.df.select(*columns)\n",
        "\n",
        "            # Show the DataFrame content after selecting columns\n",
        "            print(\"DataFrame after selecting columns:\")\n",
        "            self.df.show()\n",
        "\n",
        "        except Exception as e:\n",
        "            print(\"Error occurred:\", e)\n",
        "\n",
        "\n",
        "\n",
        "    def check_column_null(self, column_name):\n",
        "        try:\n",
        "            # Check if the column has any null values\n",
        "            null_count = self.df.filter(self.df[column_name].isNull()).count()\n",
        "\n",
        "            # Calculate the percentage of null values\n",
        "            total_rows = self.df.count()\n",
        "            self.null_percentage = (null_count / total_rows) * 100\n",
        "\n",
        "\n",
        "            if null_count > 0:\n",
        "                print(f\"Column '{column_name}' has {null_count} null values for {self.null_percentage}.\\n\")\n",
        "            else:\n",
        "                print(f\"Column '{column_name}' has no null values.\\n\")\n",
        "\n",
        "\n",
        "        except Exception as e:\n",
        "            print(\"Error occurred:\", e)\n",
        "\n",
        "\n",
        "\n",
        "    def check_all_columns_null(self):\n",
        "      try:\n",
        "          # Get all column names\n",
        "          columns = self.df.columns\n",
        "\n",
        "          # Apply check_column_null to each column\n",
        "          for col in columns:\n",
        "              self.check_column_null(col)\n",
        "              #removing the missing col\n",
        "              if self.null_percentage==100.0:\n",
        "                  self.df = self.df.drop(col)\n",
        "                  print(f'the column {col} was delete')\n",
        "\n",
        "      except Exception as e:\n",
        "          print(\"Error occurred:\", e)"
      ]
    },
    {
      "cell_type": "code",
      "execution_count": 4,
      "metadata": {
        "id": "xBC3cP8-CAgu"
      },
      "outputs": [],
      "source": [
        "data=wrangling()"
      ]
    },
    {
      "cell_type": "code",
      "execution_count": 33,
      "metadata": {
        "colab": {
          "base_uri": "https://localhost:8080/"
        },
        "id": "ifLtQPRdCL6L",
        "outputId": "f12b1528-c14f-491b-ce60-e669ab3f003b"
      },
      "outputs": [
        {
          "output_type": "stream",
          "name": "stdout",
          "text": [
            "+-----------+---------+---------+----------+----+----------+---+----+----+-----+----+---+---+---+----+----+---+----+----+----+----+----+---+----+----+----+----+----+----+----+----+-----+----+-----+----+-----+-----+------+-----+------+------+-------+---+---+----+---+---+---+----+----+---+---+----+----+---+---+---+----+---+----+---+----+----+-----+-----+------+----+-----+---------+----------+-------+-------+---+---+---+---+----+----+---+---+----+----+-------+--------+-------+--------+---+----+------+-----+------+------+-------+-------+----+-----+---+---+----+-----+----+----+----+----+----+----+---+---+----+----+---+---+----+----+----+----+----+----+----+----+----+----+----+----+----+----+----+----+----+----+-----+---+------+-------+---+---+----+----+----+----+----+----+-----+------+----+-----+-----+------+-------+--------+--------+---------+------+-------+------+-------+-------+--------+--------+---------+-------+--------+----------+----------+---------+----------+---------+----------+-------+--------+-----------+------------+---+----+----+-----+----+----+----+-----+----+----+----+-----+----+----+----+----+---------+----------+------+-------+-------+--------+---+----+----+-----+------+-------+---------+----------+----------+-----------+\n",
            "|  NUM_POSTE|NOM_USUEL|      LAT|       LON|ALTI|AAAAMMJJHH|RR1|QRR1|DRR1|QDRR1|  FF|QFF| DD|QDD| FXY|QFXY|DXY|QDXY| HXY|QHXY| FXI|QFXI|DXI|QDXI| HXI|QHXI| FF2|QFF2| DD2|QDD2|FXI2|QFXI2|DXI2|QDXI2|HXI2|QHXI2|FXI3S|QFXI3S|DXI3S|QDXI3S|HFXI3S|QHFXI3S|  T| QT|  TD|QTD| TN|QTN| HTN|QHTN| TX|QTX| HTX|QHTX| DG|QDG|T10|QT10|T20|QT20|T50|QT50|T100|QT100|TNSOL|QTNSOL|TN50|QTN50|TCHAUSSEE|QTCHAUSSEE| DHUMEC|QDHUMEC|  U| QU| UN|QUN| HUN|QHUN| UX|QUX| HUX|QHUX|DHUMI40|QDHUMI40|DHUMI80|QDHUMI80|TSV|QTSV|  PMER|QPMER| PSTAT|QPSTAT|PMERMIN|QPERMIN|GEOP|QGEOP|  N| QN|NBAS|QNBAS|  CL| QCL|  CM| QCM|  CH| QCH| N1|QN1|  C1| QC1| B1|QB1|  N2| QN2|  C2| QC2|  B2|QCB2|  N3| QN3|  C3| QC3|  B3| QB3|  N4| QN4|  C4| QC4|  B4| QB4|   VV|QVV|DVV200|QDVV200| WW|QWW|  W1| QW1|  W2| QW2| SOL|QSOL|SOLNG|QSOLNG|TMER|QTMER|VVMER|QVVMER|ETATMER|QETATMER|DIRHOULE|QDIRHOULE|HVAGUE|QHVAGUE|PVAGUE|QPVAGUE|HNEIGEF|QHNEIGEF|NEIGETOT|QNEIGETOT|TSNEIGE|QTSNEIGE| TUBENEIGE|QTUBENEIGE|HNEIGEFI3|QHNEIGEFI3|HNEIGEFI1|QHNEIGEFI1|ESNEIGE|QESNEIGE|CHARGENEIGE|QCHARGENEIGE|GLO|QGLO|GLO2|QGLO2| DIR|QDIR|DIR2|QDIR2| DIF|QDIF|DIF2|QDIF2|  UV| QUV| UV2|QUV2|UV_INDICE|QUV_INDICE|INFRAR|QINFRAR|INFRAR2|QINFRAR2|INS|QINS|INS2|QINS2|TLAGON|QTLAGON|TVEGETAUX|QTVEGETAUX|ECOULEMENT|QECOULEMENT|\n",
            "+-----------+---------+---------+----------+----+----------+---+----+----+-----+----+---+---+---+----+----+---+----+----+----+----+----+---+----+----+----+----+----+----+----+----+-----+----+-----+----+-----+-----+------+-----+------+------+-------+---+---+----+---+---+---+----+----+---+---+----+----+---+---+---+----+---+----+---+----+----+-----+-----+------+----+-----+---------+----------+-------+-------+---+---+---+---+----+----+---+---+----+----+-------+--------+-------+--------+---+----+------+-----+------+------+-------+-------+----+-----+---+---+----+-----+----+----+----+----+----+----+---+---+----+----+---+---+----+----+----+----+----+----+----+----+----+----+----+----+----+----+----+----+----+----+-----+---+------+-------+---+---+----+----+----+----+----+----+-----+------+----+-----+-----+------+-------+--------+--------+---------+------+-------+------+-------+-------+--------+--------+---------+-------+--------+----------+----------+---------+----------+---------+----------+-------+--------+-----------+------------+---+----+----+-----+----+----+----+-----+----+----+----+-----+----+----+----+----+---------+----------+------+-------+-------+--------+---+----+----+-----+------+-------+---------+----------+----------+-----------+\n",
            "|9.7502001E7|ST-PIERRE|46.766333|-56.179167|  21|2020010100|0.0|   1|   0|    9| 8.9|  1|140|  1| 9.5|   1|130|   1|2315|   9|14.0|   1|140|   1|2325|   9|NULL|NULL|NULL|NULL|NULL| NULL|NULL| NULL|NULL| NULL| 13.1|     1| NULL|  NULL|  2338|      9|0.7|  1|-3.3|  1|0.3|  1|2301|   9|0.7|  1|2356|   9|  0|  9|2.3|   9|2.6|   9|3.6|   9| 4.8|    9| -0.4|     9| 0.2|    9|      0.2|         9|   NULL|   NULL| 74|  1| 71|  1|2342|   9| 75|  1|2301|   9|      0|       9|      0|       9|4.8|   1|1014.7|    1|1013.8|     1| 1014.6|      1|NULL| NULL|  8|  9|   8|    9|NULL|NULL|NULL|NULL|NULL|NULL|  8|  9|NULL|NULL|780|  9|NULL|NULL|NULL|NULL|NULL|NULL|NULL|NULL|NULL|NULL|NULL|NULL|NULL|NULL|NULL|NULL|NULL|NULL|38429|  9|     0|      9|  0|  9|NULL|NULL|NULL|NULL|NULL|NULL| NULL|  NULL|NULL| NULL| NULL|  NULL|   NULL|    NULL|    NULL|     NULL|  NULL|   NULL|  NULL|   NULL|   NULL|    NULL|    NULL|     NULL|   NULL|    NULL|      NULL|      NULL|     NULL|      NULL|     NULL|      NULL|   NULL|    NULL|       NULL|        NULL|  0|   9|   0|    9|NULL|NULL|NULL| NULL|NULL|NULL|NULL| NULL|NULL|NULL|NULL|NULL|     NULL|      NULL|  NULL|   NULL|   NULL|    NULL|  0|   9|   0|    9|  NULL|   NULL|     NULL|      NULL|      NULL|       NULL|\n",
            "|9.7502001E7|ST-PIERRE|46.766333|-56.179167|  21|2020010101|0.0|   1|   0|    9| 9.7|  1|150|  1|10.4|   1|150|   1|  20|   9|14.7|   1|150|   1|  18|   9|NULL|NULL|NULL|NULL|NULL| NULL|NULL| NULL|NULL| NULL| 13.9|     1| NULL|  NULL|    18|      9|0.9|  1|-3.3|  1|0.6|  1|  23|   9|0.9|  1|  59|   9|  0|  9|2.3|   9|2.6|   9|3.6|   9| 4.8|    9| -0.1|     9| 0.5|    9|      0.3|         9|   NULL|   NULL| 74|  1| 71|  1|  20|   9| 75|  1|  12|   9|      0|       9|      0|       9|4.8|   1|1014.0|    1|1013.1|     1| 1013.8|      1|NULL| NULL|  8|  9|   8|    9|NULL|NULL|NULL|NULL|NULL|NULL|  8|  9|NULL|NULL|780|  9|NULL|NULL|NULL|NULL|NULL|NULL|NULL|NULL|NULL|NULL|NULL|NULL|NULL|NULL|NULL|NULL|NULL|NULL|19911|  9|     0|      9|  0|  9|NULL|NULL|NULL|NULL|NULL|NULL| NULL|  NULL|NULL| NULL| NULL|  NULL|   NULL|    NULL|    NULL|     NULL|  NULL|   NULL|  NULL|   NULL|   NULL|    NULL|    NULL|     NULL|   NULL|    NULL|      NULL|      NULL|     NULL|      NULL|     NULL|      NULL|   NULL|    NULL|       NULL|        NULL|  0|   9|   0|    9|NULL|NULL|NULL| NULL|NULL|NULL|NULL| NULL|NULL|NULL|NULL|NULL|     NULL|      NULL|  NULL|   NULL|   NULL|    NULL|  0|   9|   0|    9|  NULL|   NULL|     NULL|      NULL|      NULL|       NULL|\n",
            "|9.7502001E7|ST-PIERRE|46.766333|-56.179167|  21|2020010102|0.0|   1|   0|    9|10.2|  1|140|  1|10.4|   1|150|   1| 123|   9|14.3|   1|130|   1| 156|   9|NULL|NULL|NULL|NULL|NULL| NULL|NULL| NULL|NULL| NULL| 13.7|     1| NULL|  NULL|   156|      9|0.7|  1|-2.2|  1|0.5|  1| 124|   9|0.9|  1| 101|   9|  0|  9|2.3|   9|2.7|   9|3.6|   9| 4.8|    9| -0.1|     9| 0.3|    9|      0.5|         9|   NULL|   NULL| 81|  1| 74|  1| 101|   9| 82|  1| 126|   9|      0|       9|     20|       9|5.2|   1|1013.5|    1|1012.6|     1| 1013.4|      1|NULL| NULL|  8|  9|   8|    9|NULL|NULL|NULL|NULL|NULL|NULL|  2|  9|NULL|NULL|510|  9|   8|   9|NULL|NULL| 720|   9|NULL|NULL|NULL|NULL|NULL|NULL|NULL|NULL|NULL|NULL|NULL|NULL|11827|  9|     0|      9|  0|  9|NULL|NULL|NULL|NULL|NULL|NULL| NULL|  NULL|NULL| NULL| NULL|  NULL|   NULL|    NULL|    NULL|     NULL|  NULL|   NULL|  NULL|   NULL|   NULL|    NULL|    NULL|     NULL|   NULL|    NULL|      NULL|      NULL|     NULL|      NULL|     NULL|      NULL|   NULL|    NULL|       NULL|        NULL|  0|   9|   0|    9|NULL|NULL|NULL| NULL|NULL|NULL|NULL| NULL|NULL|NULL|NULL|NULL|     NULL|      NULL|  NULL|   NULL|   NULL|    NULL|  0|   9|   0|    9|  NULL|   NULL|     NULL|      NULL|      NULL|       NULL|\n",
            "|9.7502001E7|ST-PIERRE|46.766333|-56.179167|  21|2020010103|0.0|   1|  20|    9|11.5|  1|130|  1|11.6|   1|130|   1| 241|   9|16.5|   1|130|   1| 256|   9|NULL|NULL|NULL|NULL|NULL| NULL|NULL| NULL|NULL| NULL| 15.6|     1| NULL|  NULL|   241|      9|0.8|  1|-2.2|  1|0.2|  1| 221|   9|0.8|  1| 250|   9|  0|  9|2.3|   9|2.7|   9|3.6|   9| 4.8|    9| -0.2|     9| 0.0|    9|      0.4|         9|   NULL|   NULL| 81|  1| 81|  1| 201|   9| 89|  1| 219|   9|      0|       9|     60|       9|5.2|   1|1011.9|    1|1011.0|     1| 1011.9|      1|NULL| NULL|  8|  9|   8|    9|NULL|NULL|NULL|NULL|NULL|NULL|  8|  9|NULL|NULL|660|  9|NULL|NULL|NULL|NULL|NULL|NULL|NULL|NULL|NULL|NULL|NULL|NULL|NULL|NULL|NULL|NULL|NULL|NULL|15604|  9|     0|      9|  0|  9|NULL|NULL|NULL|NULL|NULL|NULL| NULL|  NULL|NULL| NULL| NULL|  NULL|   NULL|    NULL|    NULL|     NULL|  NULL|   NULL|  NULL|   NULL|   NULL|    NULL|    NULL|     NULL|   NULL|    NULL|      NULL|      NULL|     NULL|      NULL|     NULL|      NULL|   NULL|    NULL|       NULL|        NULL|  0|   9|   0|    9|NULL|NULL|NULL| NULL|NULL|NULL|NULL| NULL|NULL|NULL|NULL|NULL|     NULL|      NULL|  NULL|   NULL|   NULL|    NULL|  0|   9|   0|    9|  NULL|   NULL|     NULL|      NULL|      NULL|       NULL|\n",
            "|9.7502001E7|ST-PIERRE|46.766333|-56.179167|  21|2020010104|0.0|   1|   0|    9|12.9|  1|120|  1|12.9|   1|120|   1| 359|   9|18.0|   1|130|   1| 352|   9|NULL|NULL|NULL|NULL|NULL| NULL|NULL| NULL|NULL| NULL| 17.6|     1| NULL|  NULL|   352|      9|0.9|  1|-2.0|  1|0.8|  1| 301|   9|1.0|  1| 318|   9|  0|  9|2.3|   9|2.6|   9|3.6|   9| 4.8|    9|  0.2|     9| 0.7|    9|      0.5|         9|   NULL|   NULL| 82|  1| 79|  1| 317|   9| 82|  1| 303|   9|      0|       9|     58|       9|5.3|   1|1009.6|    1|1008.7|     1| 1009.6|      1|NULL| NULL|  8|  9|   8|    9|NULL|NULL|NULL|NULL|NULL|NULL|  8|  9|NULL|NULL|600|  9|NULL|NULL|NULL|NULL|NULL|NULL|NULL|NULL|NULL|NULL|NULL|NULL|NULL|NULL|NULL|NULL|NULL|NULL|16955|  9|     0|      9|  0|  9|NULL|NULL|NULL|NULL|NULL|NULL| NULL|  NULL|NULL| NULL| NULL|  NULL|   NULL|    NULL|    NULL|     NULL|  NULL|   NULL|  NULL|   NULL|   NULL|    NULL|    NULL|     NULL|   NULL|    NULL|      NULL|      NULL|     NULL|      NULL|     NULL|      NULL|   NULL|    NULL|       NULL|        NULL|  0|   9|   0|    9|NULL|NULL|NULL| NULL|NULL|NULL|NULL| NULL|NULL|NULL|NULL|NULL|     NULL|      NULL|  NULL|   NULL|   NULL|    NULL|  0|   9|   0|    9|  NULL|   NULL|     NULL|      NULL|      NULL|       NULL|\n",
            "|9.7502001E7|ST-PIERRE|46.766333|-56.179167|  21|2020010105|0.0|   1|  10|    9|13.7|  1|120|  1|13.9|   1|120|   1| 458|   9|20.2|   1|110|   1| 457|   9|NULL|NULL|NULL|NULL|NULL| NULL|NULL| NULL|NULL| NULL| 18.9|     1| NULL|  NULL|   453|      9|0.5|  1|-1.2|  1|0.5|  1| 459|   9|0.9|  1| 401|   9|  0|  9|2.3|   9|2.6|   9|3.6|   9| 4.8|    9|  0.2|     9| 0.4|    9|      0.6|         9|   NULL|   NULL| 89|  1| 82|  1| 401|   9| 89|  1| 456|   9|      0|       9|     60|       9|5.6|   1|1007.3|    1|1006.4|     1| 1007.3|      1|NULL| NULL|  8|  9|   8|    9|   5|   9|NULL|NULL|NULL|NULL|  6|  9|   7|   9|300|  9|   8|   9|   6|   9| 600|   9|NULL|NULL|NULL|NULL|NULL|NULL|NULL|NULL|NULL|NULL|NULL|NULL|10000|  9|     0|      9| 70|  9|   7|   9|   2|   9|NULL|NULL|    1|     9|NULL| NULL| NULL|  NULL|      5|       9|    NULL|     NULL|  NULL|   NULL|  NULL|   NULL|   NULL|    NULL|       0|        9|   NULL|    NULL|      NULL|      NULL|        1|         9|     NULL|      NULL|   NULL|    NULL|       NULL|        NULL|  0|   9|   0|    9|NULL|NULL|NULL| NULL|NULL|NULL|NULL| NULL|NULL|NULL|NULL|NULL|     NULL|      NULL|  NULL|   NULL|   NULL|    NULL|  0|   9|   0|    9|  NULL|   NULL|     NULL|      NULL|      NULL|       NULL|\n",
            "|9.7502001E7|ST-PIERRE|46.766333|-56.179167|  21|2020010106|0.0|   1|  60|    9|14.0|  1|120|  1|14.9|   1|110|   1| 548|   9|22.3|   1|110|   1| 540|   9|NULL|NULL|NULL|NULL|NULL| NULL|NULL| NULL|NULL| NULL| 20.6|     1| NULL|  NULL|   540|      9|0.6|  1|-0.5|  1|0.5|  1| 506|   9|0.7|  1| 522|   9|  0|  9|2.3|   9|2.7|   9|3.6|   9| 4.8|    9| -0.1|     9| 0.0|    9|      0.5|         9|   NULL|   NULL| 92|  1| 89|  1| 501|   9| 92|  1| 555|   9|      0|       9|     60|       9|5.9|   1|1005.9|    1|1005.0|     1| 1005.7|      1|NULL| NULL|  8|  9|   8|    9|   5|   9|NULL|NULL|NULL|NULL|  6|  9|   7|   9|300|  9|   8|   9|   6|   9| 600|   9|NULL|NULL|NULL|NULL|NULL|NULL|NULL|NULL|NULL|NULL|NULL|NULL| 5000|  9|     0|      9| 68|  9|   7|   9|   7|   9|NULL|NULL|    1|     9|NULL| NULL| NULL|  NULL|      5|       9|    NULL|     NULL|  NULL|   NULL|  NULL|   NULL|   NULL|    NULL|       0|        9|   NULL|    NULL|      NULL|      NULL|     NULL|      NULL|        1|         9|   NULL|    NULL|       NULL|        NULL|  0|   9|   0|    9|NULL|NULL|NULL| NULL|NULL|NULL|NULL| NULL|NULL|NULL|NULL|NULL|     NULL|      NULL|  NULL|   NULL|   NULL|    NULL|  0|   9|   0|    9|  NULL|   NULL|     NULL|      NULL|      NULL|       NULL|\n",
            "|9.7502001E7|ST-PIERRE|46.766333|-56.179167|  21|2020010107|0.4|   1|  60|    9|14.6|  1|120|  1|15.4|   1|120|   1| 651|   9|22.1|   1|130|   1| 659|   9|NULL|NULL|NULL|NULL|NULL| NULL|NULL| NULL|NULL| NULL| 21.6|     1| NULL|  NULL|   647|      9|0.6|  1| 0.0|  1|0.4|  1| 619|   9|0.6|  1| 601|   9|  0|  9|2.3|   9|2.7|   9|3.6|   9| 4.8|    9| -0.1|     9| 0.0|    9|      0.4|         9|   NULL|   NULL| 96|  1| 92|  1| 601|   9| 96|  1| 650|   9|      0|       9|     60|       9|6.1|   1|1004.5|    1|1003.6|     1| 1004.5|      1|NULL| NULL|  8|  9|   8|    9|   7|   9|NULL|NULL|NULL|NULL|  8|  9|   7|   9|300|  9|NULL|NULL|NULL|NULL|NULL|NULL|NULL|NULL|NULL|NULL|NULL|NULL|NULL|NULL|NULL|NULL|NULL|NULL| 3000|  9|     0|      9| 68|  9|   7|   9|   7|   9|NULL|NULL|    1|     9|NULL| NULL| NULL|  NULL|      5|       9|    NULL|     NULL|  NULL|   NULL|  NULL|   NULL|   NULL|    NULL|       0|        9|   NULL|    NULL|      NULL|      NULL|     NULL|      NULL|        1|         9|   NULL|    NULL|       NULL|        NULL|  0|   9|   0|    9|NULL|NULL|NULL| NULL|NULL|NULL|NULL| NULL|NULL|NULL|NULL|NULL|     NULL|      NULL|  NULL|   NULL|   NULL|    NULL|  0|   9|   0|    9|  NULL|   NULL|     NULL|      NULL|      NULL|       NULL|\n",
            "|9.7502001E7|ST-PIERRE|46.766333|-56.179167|  21|2020010108|1.2|   1|  60|    9|15.0|  1|120|  1|15.4|   1|120|   1| 751|   9|23.6|   1|110|   1| 800|   9|NULL|NULL|NULL|NULL|NULL| NULL|NULL| NULL|NULL| NULL| 22.5|     1| NULL|  NULL|   800|      9|0.8|  1| 0.2|  1|0.6|  1| 701|   9|0.8|  1| 742|   9|  0|  9|2.3|   9|2.7|   9|3.6|   9| 4.8|    9|  0.0|     9| 0.3|    9|      0.7|         9|   NULL|   NULL| 96|  1| 96|  1| 701|   9| 96|  1| 701|   9|      0|       9|     60|       9|6.2|   1|1002.6|    1|1001.7|     1| 1002.6|      1|NULL| NULL|  8|  9|   8|    9|   7|   9|NULL|NULL|NULL|NULL|  7|  9|   7|   9|240|  9|NULL|NULL|NULL|NULL|NULL|NULL|NULL|NULL|NULL|NULL|NULL|NULL|NULL|NULL|NULL|NULL|NULL|NULL| 4000|  9|     0|      9| 68|  9|   7|   9|   6|   9|NULL|NULL|    1|     9|NULL| NULL| NULL|  NULL|      5|       9|    NULL|     NULL|  NULL|   NULL|  NULL|   NULL|      1|       9|       0|        9|   NULL|    NULL|      NULL|      NULL|     NULL|      NULL|     NULL|      NULL|   NULL|    NULL|       NULL|        NULL|  0|   9|   0|    9|NULL|NULL|NULL| NULL|NULL|NULL|NULL| NULL|NULL|NULL|NULL|NULL|     NULL|      NULL|  NULL|   NULL|   NULL|    NULL|  0|   9|   0|    9|  NULL|   NULL|     NULL|      NULL|      NULL|       NULL|\n",
            "|9.7502001E7|ST-PIERRE|46.766333|-56.179167|  21|2020010109|5.1|   1|  60|    9|14.1|  1|110|  1|15.2|   1|120|   1| 806|   9|21.2|   1|120|   1| 834|   9|NULL|NULL|NULL|NULL|NULL| NULL|NULL| NULL|NULL| NULL| 20.2|     1| NULL|  NULL|   834|      9|0.9|  1| 0.4|  1|0.7|  1| 802|   9|0.9|  1| 854|   9|  0|  9|2.3|   9|2.6|   9|3.6|   9| 4.8|    9|  0.0|     9| 0.4|    9|      0.0|         9|   NULL|   NULL| 97|  1| 96|  1| 801|   9| 97|  1| 813|   9|      0|       9|     60|       9|6.3|   1|1002.1|    1|1001.2|     1| 1002.1|      1|NULL| NULL|  8|  9|   8|    9|   7|   9|NULL|NULL|NULL|NULL|  7|  9|   7|   9|200|  9|NULL|NULL|NULL|NULL|NULL|NULL|NULL|NULL|NULL|NULL|NULL|NULL|NULL|NULL|NULL|NULL|NULL|NULL| 3000|  9|     0|      9| 68|  9|   7|   9|   7|   9|NULL|NULL|    1|     9|NULL| NULL| NULL|  NULL|      5|       9|    NULL|     NULL|  NULL|   NULL|  NULL|   NULL|   NULL|    NULL|       0|        9|   NULL|    NULL|      NULL|      NULL|     NULL|      NULL|        1|         9|   NULL|    NULL|       NULL|        NULL|  0|   9|   0|    9|NULL|NULL|NULL| NULL|NULL|NULL|NULL| NULL|NULL|NULL|NULL|NULL|     NULL|      NULL|  NULL|   NULL|   NULL|    NULL|  0|   9|   0|    9|  NULL|   NULL|     NULL|      NULL|      NULL|       NULL|\n",
            "|9.7502001E7|ST-PIERRE|46.766333|-56.179167|  21|2020010110|1.6|   1|  60|    9|15.2|  1|120|  1|15.6|   1|120|   1| 958|   9|23.8|   1|110|   1| 936|   9|NULL|NULL|NULL|NULL|NULL| NULL|NULL| NULL|NULL| NULL| 22.0|     1| NULL|  NULL|   936|      9|1.3|  1| 0.9|  1|0.9|  1| 901|   9|1.3|  1| 947|   9|  0|  9|2.3|   9|2.6|   9|3.6|   9| 4.8|    9|  0.4|     9| 0.8|    9|      0.1|         9|   NULL|   NULL| 97|  1| 97|  1| 901|   9| 97|  1| 901|   9|      0|       9|     60|       9|6.5|   1| 999.8|    1| 998.9|     1|  999.8|      1|NULL| NULL|  8|  9|   8|    9|   7|   9|NULL|NULL|NULL|NULL|  7|  9|   7|   9|200|  9|NULL|NULL|NULL|NULL|NULL|NULL|NULL|NULL|NULL|NULL|NULL|NULL|NULL|NULL|NULL|NULL|NULL|NULL| 2500|  9|     0|      9| 68|  9|   7|   9|   7|   9|NULL|NULL|    1|     9|NULL| NULL| NULL|  NULL|      5|       9|    NULL|     NULL|  NULL|   NULL|  NULL|   NULL|   NULL|    NULL|       0|        9|   NULL|    NULL|      NULL|      NULL|     NULL|      NULL|        1|         9|   NULL|    NULL|       NULL|        NULL|  1|   9|   1|    9|NULL|NULL|NULL| NULL|NULL|NULL|NULL| NULL|NULL|NULL|NULL|NULL|     NULL|      NULL|  NULL|   NULL|   NULL|    NULL|  0|   9|   0|    9|  NULL|   NULL|     NULL|      NULL|      NULL|       NULL|\n",
            "|9.7502001E7|ST-PIERRE|46.766333|-56.179167|  21|2020010111|2.4|   1|  60|    9|11.5|  1|110|  1|15.6|   1|110|   1|1012|   9|22.2|   1|120|   1|1003|   9|NULL|NULL|NULL|NULL|NULL| NULL|NULL| NULL|NULL| NULL| 20.9|     1| NULL|  NULL|  1010|      9|1.6|  1| 1.3|  1|1.3|  1|1001|   9|1.6|  1|1049|   9|  0|  9|2.3|   9|2.6|   9|3.6|   9| 4.8|    9|  0.8|     9| 1.1|    9|      0.6|         9|   NULL|   NULL| 98|  1| 97|  1|1001|   9| 98|  1|1023|   9|      0|       9|     60|       9|6.7|   1| 998.1|    1| 997.2|     1|  998.1|      1|NULL| NULL|  8|  9|   8|    9|   7|   9|NULL|NULL|NULL|NULL|  7|  9|   7|   9|200|  9|NULL|NULL|NULL|NULL|NULL|NULL|NULL|NULL|NULL|NULL|NULL|NULL|NULL|NULL|NULL|NULL|NULL|NULL| 3000|  9|     0|      9| 61|  9|   7|   9|   6|   9|NULL|NULL|    1|     9|NULL| NULL| NULL|  NULL|      5|       9|    NULL|     NULL|  NULL|   NULL|  NULL|   NULL|   NULL|    NULL|       0|        9|   NULL|    NULL|      NULL|      NULL|        1|         9|     NULL|      NULL|   NULL|    NULL|       NULL|        NULL|  2|   9|   2|    9|NULL|NULL|NULL| NULL|NULL|NULL|NULL| NULL|NULL|NULL|NULL|NULL|     NULL|      NULL|  NULL|   NULL|   NULL|    NULL|  0|   9|   0|    9|  NULL|   NULL|     NULL|      NULL|      NULL|       NULL|\n",
            "|9.7502001E7|ST-PIERRE|46.766333|-56.179167|  21|2020010112|2.8|   1|  60|    9|11.6|  1|110|  1|13.1|   1|110|   1|1135|   9|19.0|   1|120|   1|1133|   9|NULL|NULL|NULL|NULL|NULL| NULL|NULL| NULL|NULL| NULL| 18.1|     1| NULL|  NULL|  1133|      9|2.0|  1| 1.7|  1|1.6|  1|1101|   9|2.0|  1|1144|   9|  0|  9|2.2|   9|2.6|   9|3.6|   9| 4.8|    9|  1.1|     9| 1.4|    9|      0.9|         9|   NULL|   NULL| 98|  1| 98|  1|1101|   9| 98|  1|1101|   9|      0|       9|     60|       9|6.9|   1| 995.4|    1| 994.5|     1|  995.4|      1|NULL| NULL|  8|  9|   8|    9|   7|   9|NULL|NULL|NULL|NULL|  7|  9|   7|   9|200|  9|NULL|NULL|NULL|NULL|NULL|NULL|NULL|NULL|NULL|NULL|NULL|NULL|NULL|NULL|NULL|NULL|NULL|NULL| 3000|  9|     0|      9| 61|  9|   6|   9|   6|   9|NULL|NULL|    1|     9|NULL| NULL| NULL|  NULL|      5|       9|    NULL|     NULL|  NULL|   NULL|  NULL|   NULL|   NULL|    NULL|       0|        9|   NULL|    NULL|      NULL|      NULL|     NULL|      NULL|        1|         9|   NULL|    NULL|       NULL|        NULL|  9|   9|   5|    9|NULL|NULL|NULL| NULL|NULL|NULL|NULL| NULL|NULL|NULL|NULL|NULL|     NULL|      NULL|  NULL|   NULL|   NULL|    NULL|  0|   9|   0|    9|  NULL|   NULL|     NULL|      NULL|      NULL|       NULL|\n",
            "|9.7502001E7|ST-PIERRE|46.766333|-56.179167|  21|2020010113|1.0|   1|  60|    9|10.1|  1|110|  1|11.7|   1|110|   1|1203|   9|16.7|   1|120|   1|1201|   9|NULL|NULL|NULL|NULL|NULL| NULL|NULL| NULL|NULL| NULL| 16.1|     1| NULL|  NULL|  1210|      9|2.5|  1| 2.3|  1|2.0|  1|1201|   9|2.5|  1|1255|   9|  0|  9|2.1|   9|2.5|   9|3.5|   9| 4.7|    9|  1.6|     9| 1.9|    9|      1.4|         9|   NULL|   NULL| 98|  1| 98|  1|1201|   9| 98|  1|1201|   9|      0|       9|     60|       9|7.2|   1| 992.8|    1| 991.9|     1|  992.8|      1|NULL| NULL|  8|  9|   8|    9|   7|   9|NULL|NULL|NULL|NULL|  8|  9|   7|   9|150|  9|NULL|NULL|NULL|NULL|NULL|NULL|NULL|NULL|NULL|NULL|NULL|NULL|NULL|NULL|NULL|NULL|NULL|NULL| 1500|  9|     0|      9| 61|  9|   6|   9|   6|   9|   2|   9| NULL|  NULL|NULL| NULL| NULL|  NULL|      5|       9|    NULL|     NULL|  NULL|   NULL|  NULL|   NULL|   NULL|    NULL|       0|        1|   NULL|    NULL|      NULL|      NULL|     NULL|      NULL|        0|         1|   NULL|    NULL|       NULL|        NULL| 12|   9|  13|    9|NULL|NULL|NULL| NULL|NULL|NULL|NULL| NULL|NULL|NULL|NULL|NULL|     NULL|      NULL|  NULL|   NULL|   NULL|    NULL|  0|   9|   0|    9|  NULL|   NULL|     NULL|      NULL|      NULL|       NULL|\n",
            "|9.7502001E7|ST-PIERRE|46.766333|-56.179167|  21|2020010114|0.0|   1|  60|    9|10.7|  1|140|  1|10.7|   1|140|   1|1400|   9|14.9|   1|160|   1|1357|   9|NULL|NULL|NULL|NULL|NULL| NULL|NULL| NULL|NULL| NULL| 14.4|     1| NULL|  NULL|  1353|      9|3.5|  1| 3.2|  1|2.5|  1|1301|   9|3.5|  1|1352|   9|  0|  9|2.1|   9|2.5|   9|3.5|   9| 4.8|    9|  2.0|     9| 2.4|    9|      1.7|         9|   NULL|   NULL| 98|  1| 98|  1|1301|   9| 98|  1|1301|   9|      0|       9|     60|       9|7.7|   1| 991.0|    1| 990.1|     1|  991.0|      1|NULL| NULL|  8|  9|   8|    9|   7|   9|NULL|NULL|NULL|NULL|  8|  9|   7|   9|100|  9|NULL|NULL|NULL|NULL|NULL|NULL|NULL|NULL|NULL|NULL|NULL|NULL|NULL|NULL|NULL|NULL|NULL|NULL| 1200|  9|     0|      9| 51|  9|   7|   9|   6|   9|   2|   9| NULL|  NULL|NULL| NULL| NULL|  NULL|      5|       9|    NULL|     NULL|  NULL|   NULL|  NULL|   NULL|      0|       1|       0|        1|   NULL|    NULL|      NULL|      NULL|     NULL|      NULL|     NULL|      NULL|   NULL|    NULL|       NULL|        NULL| 12|   9|  11|    9|NULL|NULL|NULL| NULL|NULL|NULL|NULL| NULL|NULL|NULL|NULL|NULL|     NULL|      NULL|  NULL|   NULL|   NULL|    NULL|  0|   9|   0|    9|  NULL|   NULL|     NULL|      NULL|      NULL|       NULL|\n",
            "|9.7502001E7|ST-PIERRE|46.766333|-56.179167|  21|2020010115|0.0|   1|  50|    9|10.5|  1|220|  1|12.1|   1|160|   1|1412|   9|17.0|   1|160|   1|1403|   9|NULL|NULL|NULL|NULL|NULL| NULL|NULL| NULL|NULL| NULL| 16.3|     1| NULL|  NULL|  1410|      9|3.3|  1| 3.0|  1|3.3|  1|1452|   9|4.0|  1|1413|   9|  0|  9|2.0|   9|2.5|   9|3.5|   9| 4.8|    9|  2.9|     9| 3.2|    9|      2.3|         9|   NULL|   NULL| 98|  1| 98|  1|1401|   9| 98|  1|1401|   9|      0|       9|     60|       9|7.6|   1| 991.4|    1| 990.5|     1|  991.0|      1|NULL| NULL|  8|  9|   8|    9|   7|   9|NULL|NULL|NULL|NULL|  7|  9|   7|   9|100|  9|NULL|NULL|NULL|NULL|NULL|NULL|NULL|NULL|NULL|NULL|NULL|NULL|NULL|NULL|NULL|NULL|NULL|NULL| 2500|  9|     0|      9| 20|  9|   5|   9|   2|   9|   2|   9| NULL|  NULL|NULL| NULL| NULL|  NULL|      5|       9|    NULL|     NULL|  NULL|   NULL|  NULL|   NULL|   NULL|    NULL|       0|        1|   NULL|    NULL|      NULL|      NULL|     NULL|      NULL|        0|         1|   NULL|    NULL|       NULL|        NULL|  8|   9|   9|    9|NULL|NULL|NULL| NULL|NULL|NULL|NULL| NULL|NULL|NULL|NULL|NULL|     NULL|      NULL|  NULL|   NULL|   NULL|    NULL|  0|   9|   0|    9|  NULL|   NULL|     NULL|      NULL|      NULL|       NULL|\n",
            "|9.7502001E7|ST-PIERRE|46.766333|-56.179167|  21|2020010116|0.0|   1|  50|    9|13.2|  1|230|  1|13.3|   1|230|   1|1558|   9|18.6|   1|220|   1|1553|   9|NULL|NULL|NULL|NULL|NULL| NULL|NULL| NULL|NULL| NULL| 17.6|     1| NULL|  NULL|  1553|      9|2.5|  1| 2.3|  1|2.5|  1|1553|   9|3.3|  1|1501|   9|  0|  9|2.1|   9|2.4|   9|3.5|   9| 4.7|    9|  2.3|     9| 2.4|    9|      2.2|         9|   NULL|   NULL| 98|  1| 98|  1|1501|   9| 98|  1|1501|   9|      0|       9|     60|       9|7.2|   1| 991.9|    1| 991.0|     1|  991.4|      1|NULL| NULL|  8|  9|   8|    9|   7|   9|NULL|NULL|NULL|NULL|  7|  9|   7|   9|200|  9|NULL|NULL|NULL|NULL|NULL|NULL|NULL|NULL|NULL|NULL|NULL|NULL|NULL|NULL|NULL|NULL|NULL|NULL| 8000|  9|     0|      9| 50|  9|   5|   9|   2|   9|   2|   9| NULL|  NULL|NULL| NULL| NULL|  NULL|      5|       9|    NULL|     NULL|  NULL|   NULL|  NULL|   NULL|   NULL|    NULL|       0|        1|   NULL|    NULL|      NULL|      NULL|     NULL|      NULL|        0|         1|   NULL|    NULL|       NULL|        NULL|  3|   9|   5|    9|NULL|NULL|NULL| NULL|NULL|NULL|NULL| NULL|NULL|NULL|NULL|NULL|     NULL|      NULL|  NULL|   NULL|   NULL|    NULL|  0|   9|   0|    9|  NULL|   NULL|     NULL|      NULL|      NULL|       NULL|\n",
            "|9.7502001E7|ST-PIERRE|46.766333|-56.179167|  21|2020010117|0.0|   1|  60|    9|12.7|  1|220|  1|13.0|   1|230|   1|1601|   9|17.2|   1|220|   1|1658|   9|NULL|NULL|NULL|NULL|NULL| NULL|NULL| NULL|NULL| NULL| 16.5|     1| NULL|  NULL|  1658|      9|2.7|  1| 2.5|  1|2.5|  1|1601|   9|2.7|  1|1639|   9|  0|  9|2.1|   9|2.5|   9|3.5|   9| 4.7|    9|  2.2|     9| 2.4|    9|      2.1|         9|   NULL|   NULL| 98|  1| 98|  1|1601|   9| 98|  1|1601|   9|      0|       9|     60|       9|7.3|   1| 992.3|    1| 991.4|     1|  991.9|      1|NULL| NULL|  8|  9|   8|    9|   7|   9|NULL|NULL|NULL|NULL|  7|  9|   7|   9|200|  9|NULL|NULL|NULL|NULL|NULL|NULL|NULL|NULL|NULL|NULL|NULL|NULL|NULL|NULL|NULL|NULL|NULL|NULL| 6000|  9|     0|      9| 50|  9|   5|   9|   2|   9|   2|   9| NULL|  NULL|NULL| NULL| NULL|  NULL|      5|       9|    NULL|     NULL|  NULL|   NULL|  NULL|   NULL|   NULL|    NULL|       0|        1|   NULL|    NULL|      NULL|      NULL|        0|         1|     NULL|      NULL|   NULL|    NULL|       NULL|        NULL|  0|   9|   0|    9|NULL|NULL|NULL| NULL|NULL|NULL|NULL| NULL|NULL|NULL|NULL|NULL|     NULL|      NULL|  NULL|   NULL|   NULL|    NULL|  0|   9|   0|    9|  NULL|   NULL|     NULL|      NULL|      NULL|       NULL|\n",
            "|9.7502001E7|ST-PIERRE|46.766333|-56.179167|  21|2020010118|0.0|   1|   5|    9|11.3|  1|230|  1|13.2|   1|220|   1|1705|   9|16.7|   1|220|   1|1702|   9|NULL|NULL|NULL|NULL|NULL| NULL|NULL| NULL|NULL| NULL| 16.1|     1| NULL|  NULL|  1710|      9|2.9|  1| 2.7|  1|2.7|  1|1701|   9|3.0|  1|1736|   9|  0|  9|2.1|   9|2.4|   9|3.5|   9| 4.7|    9|  2.5|     9| 2.6|    9|      2.3|         9|   NULL|   NULL| 98|  1| 98|  1|1701|   9| 98|  1|1701|   9|      0|       9|     60|       9|7.4|   1| 993.0|    1| 992.1|     1|  992.3|      1|NULL| NULL|  8|  9|   8|    9|NULL|NULL|NULL|NULL|NULL|NULL|  8|  9|NULL|NULL|150|  9|NULL|NULL|NULL|NULL|NULL|NULL|NULL|NULL|NULL|NULL|NULL|NULL|NULL|NULL|NULL|NULL|NULL|NULL| 3227|  9|     0|      9| 10|  9|   5|   9|   2|   9|NULL|NULL| NULL|  NULL|NULL| NULL| NULL|  NULL|   NULL|    NULL|    NULL|     NULL|  NULL|   NULL|  NULL|   NULL|   NULL|    NULL|    NULL|     NULL|   NULL|    NULL|      NULL|      NULL|     NULL|      NULL|     NULL|      NULL|   NULL|    NULL|       NULL|        NULL|  0|   9|   0|    9|NULL|NULL|NULL| NULL|NULL|NULL|NULL| NULL|NULL|NULL|NULL|NULL|     NULL|      NULL|  NULL|   NULL|   NULL|    NULL|  0|   9|   0|    9|  NULL|   NULL|     NULL|      NULL|      NULL|       NULL|\n",
            "|9.7502001E7|ST-PIERRE|46.766333|-56.179167|  21|2020010119|0.0|   1|   0|    9|11.8|  1|240|  1|13.3|   1|230|   1|1842|   9|18.5|   1|230|   1|1840|   9|NULL|NULL|NULL|NULL|NULL| NULL|NULL| NULL|NULL| NULL| 17.8|     1| NULL|  NULL|  1840|      9|2.8|  1| 2.5|  1|2.7|  1|1831|   9|2.9|  1|1801|   9|  0|  9|2.2|   9|2.5|   9|3.5|   9| 4.7|    9|  2.4|     9| 2.7|    9|      2.2|         9|   NULL|   NULL| 98|  1| 98|  1|1801|   9| 98|  1|1801|   9|      0|       9|     60|       9|7.3|   1| 993.9|    1| 993.0|     1|  993.0|      1|NULL| NULL|  8|  9|   8|    9|NULL|NULL|NULL|NULL|NULL|NULL|  1|  9|NULL|NULL|330|  9|   8|   9|NULL|NULL| 600|   9|NULL|NULL|NULL|NULL|NULL|NULL|NULL|NULL|NULL|NULL|NULL|NULL| 6435|  9|     0|      9|  0|  9|NULL|NULL|NULL|NULL|NULL|NULL| NULL|  NULL|NULL| NULL| NULL|  NULL|   NULL|    NULL|    NULL|     NULL|  NULL|   NULL|  NULL|   NULL|   NULL|    NULL|    NULL|     NULL|   NULL|    NULL|      NULL|      NULL|     NULL|      NULL|     NULL|      NULL|   NULL|    NULL|       NULL|        NULL|  0|   9|   0|    9|NULL|NULL|NULL| NULL|NULL|NULL|NULL| NULL|NULL|NULL|NULL|NULL|     NULL|      NULL|  NULL|   NULL|   NULL|    NULL|  0|   9|   0|    9|  NULL|   NULL|     NULL|      NULL|      NULL|       NULL|\n",
            "+-----------+---------+---------+----------+----+----------+---+----+----+-----+----+---+---+---+----+----+---+----+----+----+----+----+---+----+----+----+----+----+----+----+----+-----+----+-----+----+-----+-----+------+-----+------+------+-------+---+---+----+---+---+---+----+----+---+---+----+----+---+---+---+----+---+----+---+----+----+-----+-----+------+----+-----+---------+----------+-------+-------+---+---+---+---+----+----+---+---+----+----+-------+--------+-------+--------+---+----+------+-----+------+------+-------+-------+----+-----+---+---+----+-----+----+----+----+----+----+----+---+---+----+----+---+---+----+----+----+----+----+----+----+----+----+----+----+----+----+----+----+----+----+----+-----+---+------+-------+---+---+----+----+----+----+----+----+-----+------+----+-----+-----+------+-------+--------+--------+---------+------+-------+------+-------+-------+--------+--------+---------+-------+--------+----------+----------+---------+----------+---------+----------+-------+--------+-----------+------------+---+----+----+-----+----+----+----+-----+----+----+----+-----+----+----+----+----+---------+----------+------+-------+-------+--------+---+----+----+-----+------+-------+---------+----------+----------+-----------+\n",
            "only showing top 20 rows\n",
            "\n"
          ]
        }
      ],
      "source": [
        "data.open_file(file_path=\"/content/H_975_combined.csv\")"
      ]
    },
    {
      "cell_type": "code",
      "execution_count": 34,
      "metadata": {
        "colab": {
          "base_uri": "https://localhost:8080/"
        },
        "id": "FOmGG-EjD9uu",
        "outputId": "96beb582-bf76-46f9-a84d-cd72cf1104a4"
      },
      "outputs": [
        {
          "output_type": "stream",
          "name": "stdout",
          "text": [
            "DataFrame after selecting columns:\n",
            "+---------+----------+----+----------+---+----+----+---+---+----+---+---+----+-----+-------+---+---+----+-------+-------+---+------+-------+---+-----+------+---+----+-----+----+-------+---------+-------+-----------+---+----+---------+------+---+----------+\n",
            "|      LAT|       LON|ALTI|AAAAMMJJHH|RR1|DRR1|  FF| DD|  T|  TD| DG|T10|TN50|TNSOL| DHUMEC|  U| UN| HUN|DHUMI40|DHUMI80|TSV| PSTAT|PMERMIN|  N|   VV|DVV200| WW| SOL|SOLNG|TMER|HNEIGEF|HNEIGEFI1|ESNEIGE|CHARGENEIGE|GLO| DIF|UV_INDICE|INFRAR|INS|ECOULEMENT|\n",
            "+---------+----------+----+----------+---+----+----+---+---+----+---+---+----+-----+-------+---+---+----+-------+-------+---+------+-------+---+-----+------+---+----+-----+----+-------+---------+-------+-----------+---+----+---------+------+---+----------+\n",
            "|46.766333|-56.179167|  21|2020010100|0.0|   0| 8.9|140|0.7|-3.3|  0|2.3| 0.2| -0.4|   NULL| 74| 71|2342|      0|      0|4.8|1013.8| 1014.6|  8|38429|     0|  0|NULL| NULL|NULL|   NULL|     NULL|   NULL|       NULL|  0|NULL|     NULL|  NULL|  0|      NULL|\n",
            "|46.766333|-56.179167|  21|2020010101|0.0|   0| 9.7|150|0.9|-3.3|  0|2.3| 0.5| -0.1|   NULL| 74| 71|  20|      0|      0|4.8|1013.1| 1013.8|  8|19911|     0|  0|NULL| NULL|NULL|   NULL|     NULL|   NULL|       NULL|  0|NULL|     NULL|  NULL|  0|      NULL|\n",
            "|46.766333|-56.179167|  21|2020010102|0.0|   0|10.2|140|0.7|-2.2|  0|2.3| 0.3| -0.1|   NULL| 81| 74| 101|      0|     20|5.2|1012.6| 1013.4|  8|11827|     0|  0|NULL| NULL|NULL|   NULL|     NULL|   NULL|       NULL|  0|NULL|     NULL|  NULL|  0|      NULL|\n",
            "|46.766333|-56.179167|  21|2020010103|0.0|  20|11.5|130|0.8|-2.2|  0|2.3| 0.0| -0.2|   NULL| 81| 81| 201|      0|     60|5.2|1011.0| 1011.9|  8|15604|     0|  0|NULL| NULL|NULL|   NULL|     NULL|   NULL|       NULL|  0|NULL|     NULL|  NULL|  0|      NULL|\n",
            "|46.766333|-56.179167|  21|2020010104|0.0|   0|12.9|120|0.9|-2.0|  0|2.3| 0.7|  0.2|   NULL| 82| 79| 317|      0|     58|5.3|1008.7| 1009.6|  8|16955|     0|  0|NULL| NULL|NULL|   NULL|     NULL|   NULL|       NULL|  0|NULL|     NULL|  NULL|  0|      NULL|\n",
            "|46.766333|-56.179167|  21|2020010105|0.0|  10|13.7|120|0.5|-1.2|  0|2.3| 0.4|  0.2|   NULL| 89| 82| 401|      0|     60|5.6|1006.4| 1007.3|  8|10000|     0| 70|NULL|    1|NULL|   NULL|     NULL|   NULL|       NULL|  0|NULL|     NULL|  NULL|  0|      NULL|\n",
            "|46.766333|-56.179167|  21|2020010106|0.0|  60|14.0|120|0.6|-0.5|  0|2.3| 0.0| -0.1|   NULL| 92| 89| 501|      0|     60|5.9|1005.0| 1005.7|  8| 5000|     0| 68|NULL|    1|NULL|   NULL|        1|   NULL|       NULL|  0|NULL|     NULL|  NULL|  0|      NULL|\n",
            "|46.766333|-56.179167|  21|2020010107|0.4|  60|14.6|120|0.6| 0.0|  0|2.3| 0.0| -0.1|   NULL| 96| 92| 601|      0|     60|6.1|1003.6| 1004.5|  8| 3000|     0| 68|NULL|    1|NULL|   NULL|        1|   NULL|       NULL|  0|NULL|     NULL|  NULL|  0|      NULL|\n",
            "|46.766333|-56.179167|  21|2020010108|1.2|  60|15.0|120|0.8| 0.2|  0|2.3| 0.3|  0.0|   NULL| 96| 96| 701|      0|     60|6.2|1001.7| 1002.6|  8| 4000|     0| 68|NULL|    1|NULL|      1|     NULL|   NULL|       NULL|  0|NULL|     NULL|  NULL|  0|      NULL|\n",
            "|46.766333|-56.179167|  21|2020010109|5.1|  60|14.1|110|0.9| 0.4|  0|2.3| 0.4|  0.0|   NULL| 97| 96| 801|      0|     60|6.3|1001.2| 1002.1|  8| 3000|     0| 68|NULL|    1|NULL|   NULL|        1|   NULL|       NULL|  0|NULL|     NULL|  NULL|  0|      NULL|\n",
            "|46.766333|-56.179167|  21|2020010110|1.6|  60|15.2|120|1.3| 0.9|  0|2.3| 0.8|  0.4|   NULL| 97| 97| 901|      0|     60|6.5| 998.9|  999.8|  8| 2500|     0| 68|NULL|    1|NULL|   NULL|        1|   NULL|       NULL|  1|NULL|     NULL|  NULL|  0|      NULL|\n",
            "|46.766333|-56.179167|  21|2020010111|2.4|  60|11.5|110|1.6| 1.3|  0|2.3| 1.1|  0.8|   NULL| 98| 97|1001|      0|     60|6.7| 997.2|  998.1|  8| 3000|     0| 61|NULL|    1|NULL|   NULL|     NULL|   NULL|       NULL|  2|NULL|     NULL|  NULL|  0|      NULL|\n",
            "|46.766333|-56.179167|  21|2020010112|2.8|  60|11.6|110|2.0| 1.7|  0|2.2| 1.4|  1.1|   NULL| 98| 98|1101|      0|     60|6.9| 994.5|  995.4|  8| 3000|     0| 61|NULL|    1|NULL|   NULL|        1|   NULL|       NULL|  9|NULL|     NULL|  NULL|  0|      NULL|\n",
            "|46.766333|-56.179167|  21|2020010113|1.0|  60|10.1|110|2.5| 2.3|  0|2.1| 1.9|  1.6|   NULL| 98| 98|1201|      0|     60|7.2| 991.9|  992.8|  8| 1500|     0| 61|   2| NULL|NULL|   NULL|        0|   NULL|       NULL| 12|NULL|     NULL|  NULL|  0|      NULL|\n",
            "|46.766333|-56.179167|  21|2020010114|0.0|  60|10.7|140|3.5| 3.2|  0|2.1| 2.4|  2.0|   NULL| 98| 98|1301|      0|     60|7.7| 990.1|  991.0|  8| 1200|     0| 51|   2| NULL|NULL|      0|     NULL|   NULL|       NULL| 12|NULL|     NULL|  NULL|  0|      NULL|\n",
            "|46.766333|-56.179167|  21|2020010115|0.0|  50|10.5|220|3.3| 3.0|  0|2.0| 3.2|  2.9|   NULL| 98| 98|1401|      0|     60|7.6| 990.5|  991.0|  8| 2500|     0| 20|   2| NULL|NULL|   NULL|        0|   NULL|       NULL|  8|NULL|     NULL|  NULL|  0|      NULL|\n",
            "|46.766333|-56.179167|  21|2020010116|0.0|  50|13.2|230|2.5| 2.3|  0|2.1| 2.4|  2.3|   NULL| 98| 98|1501|      0|     60|7.2| 991.0|  991.4|  8| 8000|     0| 50|   2| NULL|NULL|   NULL|        0|   NULL|       NULL|  3|NULL|     NULL|  NULL|  0|      NULL|\n",
            "|46.766333|-56.179167|  21|2020010117|0.0|  60|12.7|220|2.7| 2.5|  0|2.1| 2.4|  2.2|   NULL| 98| 98|1601|      0|     60|7.3| 991.4|  991.9|  8| 6000|     0| 50|   2| NULL|NULL|   NULL|     NULL|   NULL|       NULL|  0|NULL|     NULL|  NULL|  0|      NULL|\n",
            "|46.766333|-56.179167|  21|2020010118|0.0|   5|11.3|230|2.9| 2.7|  0|2.1| 2.6|  2.5|   NULL| 98| 98|1701|      0|     60|7.4| 992.1|  992.3|  8| 3227|     0| 10|NULL| NULL|NULL|   NULL|     NULL|   NULL|       NULL|  0|NULL|     NULL|  NULL|  0|      NULL|\n",
            "|46.766333|-56.179167|  21|2020010119|0.0|   0|11.8|240|2.8| 2.5|  0|2.2| 2.7|  2.4|   NULL| 98| 98|1801|      0|     60|7.3| 993.0|  993.0|  8| 6435|     0|  0|NULL| NULL|NULL|   NULL|     NULL|   NULL|       NULL|  0|NULL|     NULL|  NULL|  0|      NULL|\n",
            "+---------+----------+----+----------+---+----+----+---+---+----+---+---+----+-----+-------+---+---+----+-------+-------+---+------+-------+---+-----+------+---+----+-----+----+-------+---------+-------+-----------+---+----+---------+------+---+----------+\n",
            "only showing top 20 rows\n",
            "\n"
          ]
        }
      ],
      "source": [
        "data.select_columns('LAT','LON','ALTI','AAAAMMJJHH','RR1','DRR1','FF','DD',' T','TD','DG','T10','TN50','TNSOL',' DHUMEC','U','UN','HUN','DHUMI40','DHUMI80','TSV','PSTAT','PMERMIN',' N','VV','DVV200','WW',' SOL','SOLNG','TMER','HNEIGEF','HNEIGEFI1','ESNEIGE','CHARGENEIGE','GLO','DIF','UV_INDICE','INFRAR','INS','ECOULEMENT')"
      ]
    },
    {
      "cell_type": "code",
      "execution_count": 30,
      "metadata": {
        "colab": {
          "base_uri": "https://localhost:8080/"
        },
        "id": "bYcjCJChuM21",
        "outputId": "e8f0a81a-ebf3-4765-d119-f65fad717e57"
      },
      "outputs": [
        {
          "output_type": "stream",
          "name": "stdout",
          "text": [
            "Column 'LAT' has no null values.\n",
            "\n",
            "Column 'LON' has no null values.\n",
            "\n",
            "Column 'ALTI' has no null values.\n",
            "\n",
            "Column 'AAAAMMJJHH' has no null values.\n",
            "\n",
            "Column 'RR1' has 273408 null values for 15.791963431180186.\n",
            "\n",
            "Column 'DRR1' has 1597259 null values for 92.25719700273378.\n",
            "\n",
            "Column 'FF' has 756569 null values for 43.69919673588396.\n",
            "\n",
            "Column 'DD' has 757376 null values for 43.745808811935.\n",
            "\n",
            "Column ' T' has 76435 null values for 4.414862494375649.\n",
            "\n",
            "Column 'TD' has 424736 null values for 24.532622966064444.\n",
            "\n",
            "Column 'DG' has 382571 null values for 22.09718531217095.\n",
            "\n",
            "Column 'T10' has 1581103 null values for 91.32403132654964.\n",
            "\n",
            "Column 'TN50' has 1598359 null values for 92.3207326702135.\n",
            "\n",
            "Column 'TNSOL' has 1461480 null values for 84.41464300752436.\n",
            "\n",
            "Column ' DHUMEC' has 1731263 null values for 99.99722753450997.\n",
            "\n",
            "Column 'U' has 424642 null values for 24.527193554479812.\n",
            "\n",
            "Column 'UN' has 704733 null values for 40.70516504544822.\n",
            "\n",
            "Column 'HUN' has 704878 null values for 40.713540201616.\n",
            "\n",
            "Column 'DHUMI40' has 713205 null values for 41.19450520443756.\n",
            "\n",
            "Column 'DHUMI80' has 714684 null values for 41.279931797348944.\n",
            "\n",
            "Column 'TSV' has 424758 null values for 24.53389367941404.\n",
            "\n",
            "Column 'PSTAT' has 1466310 null values for 84.69362234745809.\n",
            "\n",
            "Column 'PMERMIN' has 1621593 null values for 93.66272148678082.\n",
            "\n",
            "Column ' N' has 1676251 null values for 96.81975104415093.\n",
            "\n",
            "Column 'VV' has 1558915 null values for 90.04245915378577.\n",
            "\n",
            "Column 'DVV200' has 1667278 null values for 96.30147327660946.\n",
            "\n",
            "Column 'WW' has 1602894 null values for 92.58267289932311.\n",
            "\n",
            "Column ' SOL' has 1642181 null values for 94.85187814321056.\n",
            "\n",
            "Column 'SOLNG' has 1728428 null values for 99.8334787915054.\n",
            "\n",
            "Column 'HNEIGEF' has 1726680 null values for 99.73251483991034.\n",
            "\n",
            "Column 'HNEIGEFI1' has 1714198 null values for 99.01155829310852.\n",
            "\n",
            "Column 'GLO' has 1430452 null values for 82.62247510701428.\n",
            "\n",
            "Column 'INS' has 1376233 null values for 79.49080205693836.\n",
            "\n"
          ]
        }
      ],
      "source": [
        "data.check_all_columns_null()"
      ]
    },
    {
      "cell_type": "code",
      "execution_count": 31,
      "metadata": {
        "colab": {
          "base_uri": "https://localhost:8080/"
        },
        "id": "fwkXGln-1Es3",
        "outputId": "052ca8ba-040b-4acc-85e9-c37d45966d11"
      },
      "outputs": [
        {
          "output_type": "stream",
          "name": "stdout",
          "text": [
            "+----+-------+\n",
            "| RR1|  count|\n",
            "+----+-------+\n",
            "|13.4|     15|\n",
            "|26.7|      1|\n",
            "|15.4|      7|\n",
            "| 2.4|   2515|\n",
            "| 8.0|     74|\n",
            "|10.2|     27|\n",
            "|18.3|      1|\n",
            "| 0.0|1289307|\n",
            "| 5.4|    280|\n",
            "|16.6|      6|\n",
            "|11.4|     22|\n",
            "| 7.0|    134|\n",
            "| 3.5|     74|\n",
            "| 6.1|     63|\n",
            "| 9.5|     11|\n",
            "|11.6|     15|\n",
            "| 7.7|     29|\n",
            "| 0.2|  52777|\n",
            "| 6.6|    149|\n",
            "| 8.7|     25|\n",
            "+----+-------+\n",
            "only showing top 20 rows\n",
            "\n"
          ]
        }
      ],
      "source": [
        "data.df.groupBy(['RR1']).count().show()"
      ]
    },
    {
      "cell_type": "code",
      "source": [
        "data.df.groupBy(['LON']).count().show()"
      ],
      "metadata": {
        "colab": {
          "base_uri": "https://localhost:8080/"
        },
        "id": "n2h8aQSKDJ1w",
        "outputId": "5eb54d2a-3a7b-4b10-cc12-0b7c70be989b"
      },
      "execution_count": 32,
      "outputs": [
        {
          "output_type": "stream",
          "name": "stdout",
          "text": [
            "+--------+------+\n",
            "|     LON| count|\n",
            "+--------+------+\n",
            "|   5.688|159554|\n",
            "|5.287667|174954|\n",
            "|6.080333|153187|\n",
            "|5.814167|174519|\n",
            "|5.484167|  5715|\n",
            "|5.329333|175305|\n",
            "|   5.669|138135|\n",
            "|   5.482|122620|\n",
            "|5.968333| 22893|\n",
            "|5.469333| 44358|\n",
            "|5.373833|  5362|\n",
            "|5.073333|116301|\n",
            "|5.661667| 47911|\n",
            "|6.139667|  5599|\n",
            "|5.109833|  7245|\n",
            "|5.426667|  5208|\n",
            "|5.717167|  5282|\n",
            "|5.699833|  3839|\n",
            "|   5.461|116175|\n",
            "|5.572833|  5193|\n",
            "+--------+------+\n",
            "only showing top 20 rows\n",
            "\n"
          ]
        }
      ]
    }
  ],
  "metadata": {
    "colab": {
      "provenance": [],
      "mount_file_id": "1YI83-qPcROMSM0vQvoYfB29JLrxsdUny",
      "authorship_tag": "ABX9TyMagiZyqT1+jtzrcdXhbhtx",
      "include_colab_link": true
    },
    "kernelspec": {
      "display_name": "Python 3",
      "name": "python3"
    },
    "language_info": {
      "name": "python"
    }
  },
  "nbformat": 4,
  "nbformat_minor": 0
}