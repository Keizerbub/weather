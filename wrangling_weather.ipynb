{
  "cells": [
    {
      "cell_type": "markdown",
      "metadata": {
        "id": "view-in-github",
        "colab_type": "text"
      },
      "source": [
        "<a href=\"https://colab.research.google.com/github/Keizerbub/weather/blob/main/wrangling_weather.ipynb\" target=\"_parent\"><img src=\"https://colab.research.google.com/assets/colab-badge.svg\" alt=\"Open In Colab\"/></a>"
      ]
    },
    {
      "cell_type": "markdown",
      "metadata": {
        "id": "W7hN_a1sAJDc"
      },
      "source": [
        "#Import framework"
      ]
    },
    {
      "cell_type": "code",
      "execution_count": 1,
      "metadata": {
        "colab": {
          "base_uri": "https://localhost:8080/"
        },
        "id": "cHZ7reBiAQG5",
        "outputId": "8e5af8b5-f65d-4301-fdfe-2f6806a35783"
      },
      "outputs": [
        {
          "output_type": "stream",
          "name": "stdout",
          "text": [
            "Collecting pyspark\n",
            "  Downloading pyspark-3.5.0.tar.gz (316.9 MB)\n",
            "\u001b[2K     \u001b[90m━━━━━━━━━━━━━━━━━━━━━━━━━━━━━━━━━━━━━━━━\u001b[0m \u001b[32m316.9/316.9 MB\u001b[0m \u001b[31m2.3 MB/s\u001b[0m eta \u001b[36m0:00:00\u001b[0m\n",
            "\u001b[?25h  Preparing metadata (setup.py) ... \u001b[?25l\u001b[?25hdone\n",
            "Requirement already satisfied: py4j==0.10.9.7 in /usr/local/lib/python3.10/dist-packages (from pyspark) (0.10.9.7)\n",
            "Building wheels for collected packages: pyspark\n",
            "  Building wheel for pyspark (setup.py) ... \u001b[?25l\u001b[?25hdone\n",
            "  Created wheel for pyspark: filename=pyspark-3.5.0-py2.py3-none-any.whl size=317425345 sha256=1ed6168c3d83aafdb188df4265403a5a1588c1b8b71cc938f1b13d601bc299d7\n",
            "  Stored in directory: /root/.cache/pip/wheels/41/4e/10/c2cf2467f71c678cfc8a6b9ac9241e5e44a01940da8fbb17fc\n",
            "Successfully built pyspark\n",
            "Installing collected packages: pyspark\n",
            "Successfully installed pyspark-3.5.0\n"
          ]
        }
      ],
      "source": [
        "!pip install pyspark"
      ]
    },
    {
      "cell_type": "code",
      "execution_count": 2,
      "metadata": {
        "id": "iRVYxUDA_mV1"
      },
      "outputs": [],
      "source": [
        "import pandas as pd\n",
        "import os\n",
        "import gzip\n",
        "import shutil\n",
        "from pyspark.sql import SparkSession"
      ]
    },
    {
      "cell_type": "markdown",
      "metadata": {
        "id": "pDbwIX99Amm9"
      },
      "source": [
        "#ouverture des fichiers"
      ]
    },
    {
      "cell_type": "code",
      "execution_count": 6,
      "metadata": {
        "id": "5-tNrKcwA3Bc"
      },
      "outputs": [],
      "source": [
        "\"\"\"ouverture des fichiers\"\"\"\n",
        "class wrangling:\n",
        "    def __init__(self):\n",
        "        self.spark = SparkSession.builder \\\n",
        "            .appName(\"HandlingFile\") \\\n",
        "            .getOrCreate()\n",
        "\n",
        "\n",
        "\n",
        "    def open_file(self, file_path):\n",
        "        try:\n",
        "            # Read the file into a DataFrame\n",
        "            self.df = self.spark.read.csv(file_path, header=True, inferSchema=True, sep=\";\")  # Example for reading a CSV file\n",
        "            # If it's a different type of file, use the appropriate method like `spark.read.json()`, etc.\n",
        "\n",
        "            # Show the DataFrame content\n",
        "            self.df.show()\n",
        "\n",
        "        except Exception as e:\n",
        "            print(\"Error occurred:\", e)\n",
        "\n",
        "\n",
        "\n",
        "    def close_spark(self):\n",
        "        # Stop the SparkSession\n",
        "        self.spark.stop()\n",
        "\n",
        "\n",
        "\n",
        "    def select_columns(self, *columns, columns_state=True):\n",
        "        if columns_state==False:\n",
        "          columns='LAT','LON','AAAAMMJJHH','RR1','FF','TN50'\n",
        "\n",
        "        try:\n",
        "            # Select only the desired columns\n",
        "            self.df = self.df.select(*columns)\n",
        "\n",
        "            # Show the DataFrame content after selecting columns\n",
        "            print(\"DataFrame after selecting columns:\")\n",
        "            self.df.show()\n",
        "\n",
        "        except Exception as e:\n",
        "            print(\"Error occurred:\", e)\n",
        "\n",
        "\n",
        "\n",
        "    def check_column_null(self, column_name):\n",
        "        try:\n",
        "            # Check if the column has any null values\n",
        "            null_count = self.df.filter(self.df[column_name].isNull()).count()\n",
        "\n",
        "            # Calculate the percentage of null values\n",
        "            total_rows = self.df.count()\n",
        "            self.null_percentage = (null_count / total_rows) * 100\n",
        "\n",
        "\n",
        "            if null_count > 0:\n",
        "                print(f\"Column '{column_name}' has {null_count} null values for {self.null_percentage}.\\n\")\n",
        "            else:\n",
        "                print(f\"Column '{column_name}' has no null values.\\n\")\n",
        "\n",
        "\n",
        "        except Exception as e:\n",
        "            print(\"Error occurred:\", e)\n",
        "\n",
        "\n",
        "\n",
        "    def check_all_columns_null(self):\n",
        "      try:\n",
        "          # Get all column names\n",
        "          columns = self.df.columns\n",
        "\n",
        "          # Apply check_column_null to each column\n",
        "          for col in columns:\n",
        "              self.check_column_null(col)\n",
        "              #removing the missing col\n",
        "              if self.null_percentage==100.0:\n",
        "                  self.df = self.df.drop(col)\n",
        "                  print(f'the column {col} was delete')\n",
        "\n",
        "      except Exception as e:\n",
        "          print(\"Error occurred:\", e)"
      ]
    },
    {
      "cell_type": "code",
      "execution_count": 7,
      "metadata": {
        "id": "xBC3cP8-CAgu"
      },
      "outputs": [],
      "source": [
        "data=wrangling()"
      ]
    },
    {
      "cell_type": "code",
      "execution_count": 8,
      "metadata": {
        "colab": {
          "base_uri": "https://localhost:8080/"
        },
        "id": "ifLtQPRdCL6L",
        "outputId": "6109ce39-68fd-4f40-ad43-a4617b66359a"
      },
      "outputs": [
        {
          "output_type": "stream",
          "name": "stdout",
          "text": [
            "+-----------+---------------+---------+--------+----+----------+---+----+----+-----+---+---+---+---+----+----+----+----+----+----+----+----+---+----+----+----+----+----+----+----+----+-----+----+-----+----+-----+-----+------+-----+------+------+-------+----+---+---+---+----+----+----+----+----+----+----+----+----+----+----+----+----+----+----+----+----+-----+-----+------+----+-----+---------+----------+-------+-------+---+---+----+----+----+----+----+----+----+----+-------+--------+-------+--------+----+----+----+-----+-----+------+-------+-------+----+-----+----+----+----+-----+----+----+----+----+----+----+----+----+----+----+----+----+----+----+----+----+----+----+----+----+----+----+----+----+----+----+----+----+----+----+----+----+------+-------+----+----+----+----+----+----+----+----+-----+------+----+-----+-----+------+-------+--------+--------+---------+------+-------+------+-------+-------+--------+--------+---------+-------+--------+----------+----------+---------+----------+---------+----------+-------+--------+-----------+------------+----+----+----+-----+----+----+----+-----+----+----+----+-----+----+----+----+----+---------+----------+------+-------+-------+--------+----+----+----+-----+------+-------+---------+----------+----------+-----------+\n",
            "|  NUM_POSTE|      NOM_USUEL|      LAT|     LON|ALTI|AAAAMMJJHH|RR1|QRR1|DRR1|QDRR1| FF|QFF| DD|QDD| FXY|QFXY| DXY|QDXY| HXY|QHXY| FXI|QFXI|DXI|QDXI| HXI|QHXI| FF2|QFF2| DD2|QDD2|FXI2|QFXI2|DXI2|QDXI2|HXI2|QHXI2|FXI3S|QFXI3S|DXI3S|QDXI3S|HFXI3S|QHFXI3S|   T| QT| TD|QTD|  TN| QTN| HTN|QHTN|  TX| QTX| HTX|QHTX|  DG| QDG| T10|QT10| T20|QT20| T50|QT50|T100|QT100|TNSOL|QTNSOL|TN50|QTN50|TCHAUSSEE|QTCHAUSSEE| DHUMEC|QDHUMEC|  U| QU|  UN| QUN| HUN|QHUN|  UX| QUX| HUX|QHUX|DHUMI40|QDHUMI40|DHUMI80|QDHUMI80| TSV|QTSV|PMER|QPMER|PSTAT|QPSTAT|PMERMIN|QPERMIN|GEOP|QGEOP|   N|  QN|NBAS|QNBAS|  CL| QCL|  CM| QCM|  CH| QCH|  N1| QN1|  C1| QC1|  B1| QB1|  N2| QN2|  C2| QC2|  B2|QCB2|  N3| QN3|  C3| QC3|  B3| QB3|  N4| QN4|  C4| QC4|  B4| QB4|  VV| QVV|DVV200|QDVV200|  WW| QWW|  W1| QW1|  W2| QW2| SOL|QSOL|SOLNG|QSOLNG|TMER|QTMER|VVMER|QVVMER|ETATMER|QETATMER|DIRHOULE|QDIRHOULE|HVAGUE|QHVAGUE|PVAGUE|QPVAGUE|HNEIGEF|QHNEIGEF|NEIGETOT|QNEIGETOT|TSNEIGE|QTSNEIGE| TUBENEIGE|QTUBENEIGE|HNEIGEFI3|QHNEIGEFI3|HNEIGEFI1|QHNEIGEFI1|ESNEIGE|QESNEIGE|CHARGENEIGE|QCHARGENEIGE| GLO|QGLO|GLO2|QGLO2| DIR|QDIR|DIR2|QDIR2| DIF|QDIF|DIF2|QDIF2|  UV| QUV| UV2|QUV2|UV_INDICE|QUV_INDICE|INFRAR|QINFRAR|INFRAR2|QINFRAR2| INS|QINS|INS2|QINS2|TLAGON|QTLAGON|TVEGETAUX|QTVEGETAUX|ECOULEMENT|QECOULEMENT|\n",
            "+-----------+---------------+---------+--------+----+----------+---+----+----+-----+---+---+---+---+----+----+----+----+----+----+----+----+---+----+----+----+----+----+----+----+----+-----+----+-----+----+-----+-----+------+-----+------+------+-------+----+---+---+---+----+----+----+----+----+----+----+----+----+----+----+----+----+----+----+----+----+-----+-----+------+----+-----+---------+----------+-------+-------+---+---+----+----+----+----+----+----+----+----+-------+--------+-------+--------+----+----+----+-----+-----+------+-------+-------+----+-----+----+----+----+-----+----+----+----+----+----+----+----+----+----+----+----+----+----+----+----+----+----+----+----+----+----+----+----+----+----+----+----+----+----+----+----+----+------+-------+----+----+----+----+----+----+----+----+-----+------+----+-----+-----+------+-------+--------+--------+---------+------+-------+------+-------+-------+--------+--------+---------+-------+--------+----------+----------+---------+----------+---------+----------+-------+--------+-----------+------------+----+----+----+-----+----+----+----+-----+----+----+----+-----+----+----+----+----+---------+----------+------+-------+-------+--------+----+----+----+-----+------+-------+---------+----------+----------+-----------+\n",
            "|7.5104001E7|TOUR ST-JACQUES|48.858333|2.348333|  38|2000010100|0.0|   1|NULL| NULL|1.0|  1|240|  1|NULL|NULL|NULL|NULL|NULL|NULL| 6.0|   1|300|   1|NULL|NULL|NULL|NULL|NULL|NULL|NULL| NULL|NULL| NULL|NULL| NULL| NULL|  NULL| NULL|  NULL|  NULL|   NULL| 8.8|  1|4.4|  1|NULL|NULL|NULL|NULL|NULL|NULL|NULL|NULL|NULL|NULL|NULL|NULL|NULL|NULL|NULL|NULL|NULL| NULL| NULL|  NULL|NULL| NULL|     NULL|      NULL|   NULL|   NULL| 74|  1|NULL|NULL|NULL|NULL|NULL|NULL|NULL|NULL|   NULL|    NULL|   NULL|    NULL| 8.3|   1|NULL| NULL| NULL|  NULL|   NULL|   NULL|NULL| NULL|NULL|NULL|NULL| NULL|NULL|NULL|NULL|NULL|NULL|NULL|NULL|NULL|NULL|NULL|NULL|NULL|NULL|NULL|NULL|NULL|NULL|NULL|NULL|NULL|NULL|NULL|NULL|NULL|NULL|NULL|NULL|NULL|NULL|NULL|NULL|NULL|  NULL|   NULL|NULL|NULL|NULL|NULL|NULL|NULL|NULL|NULL| NULL|  NULL|NULL| NULL| NULL|  NULL|   NULL|    NULL|    NULL|     NULL|  NULL|   NULL|  NULL|   NULL|   NULL|    NULL|    NULL|     NULL|   NULL|    NULL|      NULL|      NULL|     NULL|      NULL|     NULL|      NULL|   NULL|    NULL|       NULL|        NULL|NULL|NULL|NULL| NULL|NULL|NULL|NULL| NULL|NULL|NULL|NULL| NULL|NULL|NULL|NULL|NULL|     NULL|      NULL|  NULL|   NULL|   NULL|    NULL|NULL|NULL|NULL| NULL|  NULL|   NULL|     NULL|      NULL|      NULL|       NULL|\n",
            "|7.5104001E7|TOUR ST-JACQUES|48.858333|2.348333|  38|2000010101|0.0|   1|NULL| NULL|1.0|  1|210|  1|NULL|NULL|NULL|NULL|NULL|NULL| 3.0|   1|280|   1|NULL|NULL|NULL|NULL|NULL|NULL|NULL| NULL|NULL| NULL|NULL| NULL| NULL|  NULL| NULL|  NULL|  NULL|   NULL| 8.9|  1|4.5|  1|NULL|NULL|NULL|NULL|NULL|NULL|NULL|NULL|NULL|NULL|NULL|NULL|NULL|NULL|NULL|NULL|NULL| NULL| NULL|  NULL|NULL| NULL|     NULL|      NULL|   NULL|   NULL| 74|  1|NULL|NULL|NULL|NULL|NULL|NULL|NULL|NULL|   NULL|    NULL|   NULL|    NULL| 8.4|   1|NULL| NULL| NULL|  NULL|   NULL|   NULL|NULL| NULL|NULL|NULL|NULL| NULL|NULL|NULL|NULL|NULL|NULL|NULL|NULL|NULL|NULL|NULL|NULL|NULL|NULL|NULL|NULL|NULL|NULL|NULL|NULL|NULL|NULL|NULL|NULL|NULL|NULL|NULL|NULL|NULL|NULL|NULL|NULL|NULL|  NULL|   NULL|NULL|NULL|NULL|NULL|NULL|NULL|NULL|NULL| NULL|  NULL|NULL| NULL| NULL|  NULL|   NULL|    NULL|    NULL|     NULL|  NULL|   NULL|  NULL|   NULL|   NULL|    NULL|    NULL|     NULL|   NULL|    NULL|      NULL|      NULL|     NULL|      NULL|     NULL|      NULL|   NULL|    NULL|       NULL|        NULL|NULL|NULL|NULL| NULL|NULL|NULL|NULL| NULL|NULL|NULL|NULL| NULL|NULL|NULL|NULL|NULL|     NULL|      NULL|  NULL|   NULL|   NULL|    NULL|NULL|NULL|NULL| NULL|  NULL|   NULL|     NULL|      NULL|      NULL|       NULL|\n",
            "|7.5104001E7|TOUR ST-JACQUES|48.858333|2.348333|  38|2000010102|0.0|   1|NULL| NULL|1.0|  1|200|  1|NULL|NULL|NULL|NULL|NULL|NULL| 3.0|   1|240|   1|NULL|NULL|NULL|NULL|NULL|NULL|NULL| NULL|NULL| NULL|NULL| NULL| NULL|  NULL| NULL|  NULL|  NULL|   NULL| 8.9|  1|5.5|  1|NULL|NULL|NULL|NULL|NULL|NULL|NULL|NULL|NULL|NULL|NULL|NULL|NULL|NULL|NULL|NULL|NULL| NULL| NULL|  NULL|NULL| NULL|     NULL|      NULL|   NULL|   NULL| 79|  1|NULL|NULL|NULL|NULL|NULL|NULL|NULL|NULL|   NULL|    NULL|   NULL|    NULL| 9.0|   1|NULL| NULL| NULL|  NULL|   NULL|   NULL|NULL| NULL|NULL|NULL|NULL| NULL|NULL|NULL|NULL|NULL|NULL|NULL|NULL|NULL|NULL|NULL|NULL|NULL|NULL|NULL|NULL|NULL|NULL|NULL|NULL|NULL|NULL|NULL|NULL|NULL|NULL|NULL|NULL|NULL|NULL|NULL|NULL|NULL|  NULL|   NULL|NULL|NULL|NULL|NULL|NULL|NULL|NULL|NULL| NULL|  NULL|NULL| NULL| NULL|  NULL|   NULL|    NULL|    NULL|     NULL|  NULL|   NULL|  NULL|   NULL|   NULL|    NULL|    NULL|     NULL|   NULL|    NULL|      NULL|      NULL|     NULL|      NULL|     NULL|      NULL|   NULL|    NULL|       NULL|        NULL|NULL|NULL|NULL| NULL|NULL|NULL|NULL| NULL|NULL|NULL|NULL| NULL|NULL|NULL|NULL|NULL|     NULL|      NULL|  NULL|   NULL|   NULL|    NULL|NULL|NULL|NULL| NULL|  NULL|   NULL|     NULL|      NULL|      NULL|       NULL|\n",
            "|7.5104001E7|TOUR ST-JACQUES|48.858333|2.348333|  38|2000010103|0.0|   1|NULL| NULL|4.0|  1|250|  1|NULL|NULL|NULL|NULL|NULL|NULL| 7.0|   1|260|   1|NULL|NULL|NULL|NULL|NULL|NULL|NULL| NULL|NULL| NULL|NULL| NULL| NULL|  NULL| NULL|  NULL|  NULL|   NULL| 8.9|  1|4.7|  1|NULL|NULL|NULL|NULL|NULL|NULL|NULL|NULL|NULL|NULL|NULL|NULL|NULL|NULL|NULL|NULL|NULL| NULL| NULL|  NULL|NULL| NULL|     NULL|      NULL|   NULL|   NULL| 75|  1|NULL|NULL|NULL|NULL|NULL|NULL|NULL|NULL|   NULL|    NULL|   NULL|    NULL| 8.5|   1|NULL| NULL| NULL|  NULL|   NULL|   NULL|NULL| NULL|NULL|NULL|NULL| NULL|NULL|NULL|NULL|NULL|NULL|NULL|NULL|NULL|NULL|NULL|NULL|NULL|NULL|NULL|NULL|NULL|NULL|NULL|NULL|NULL|NULL|NULL|NULL|NULL|NULL|NULL|NULL|NULL|NULL|NULL|NULL|NULL|  NULL|   NULL|NULL|NULL|NULL|NULL|NULL|NULL|NULL|NULL| NULL|  NULL|NULL| NULL| NULL|  NULL|   NULL|    NULL|    NULL|     NULL|  NULL|   NULL|  NULL|   NULL|   NULL|    NULL|    NULL|     NULL|   NULL|    NULL|      NULL|      NULL|     NULL|      NULL|     NULL|      NULL|   NULL|    NULL|       NULL|        NULL|NULL|NULL|NULL| NULL|NULL|NULL|NULL| NULL|NULL|NULL|NULL| NULL|NULL|NULL|NULL|NULL|     NULL|      NULL|  NULL|   NULL|   NULL|    NULL|NULL|NULL|NULL| NULL|  NULL|   NULL|     NULL|      NULL|      NULL|       NULL|\n",
            "|7.5104001E7|TOUR ST-JACQUES|48.858333|2.348333|  38|2000010104|0.0|   1|NULL| NULL|3.0|  1|240|  1|NULL|NULL|NULL|NULL|NULL|NULL| 7.0|   1|260|   1|NULL|NULL|NULL|NULL|NULL|NULL|NULL| NULL|NULL| NULL|NULL| NULL| NULL|  NULL| NULL|  NULL|  NULL|   NULL| 8.5|  1|6.1|  1|NULL|NULL|NULL|NULL|NULL|NULL|NULL|NULL|NULL|NULL|NULL|NULL|NULL|NULL|NULL|NULL|NULL| NULL| NULL|  NULL|NULL| NULL|     NULL|      NULL|   NULL|   NULL| 85|  1|NULL|NULL|NULL|NULL|NULL|NULL|NULL|NULL|   NULL|    NULL|   NULL|    NULL| 9.4|   1|NULL| NULL| NULL|  NULL|   NULL|   NULL|NULL| NULL|NULL|NULL|NULL| NULL|NULL|NULL|NULL|NULL|NULL|NULL|NULL|NULL|NULL|NULL|NULL|NULL|NULL|NULL|NULL|NULL|NULL|NULL|NULL|NULL|NULL|NULL|NULL|NULL|NULL|NULL|NULL|NULL|NULL|NULL|NULL|NULL|  NULL|   NULL|NULL|NULL|NULL|NULL|NULL|NULL|NULL|NULL| NULL|  NULL|NULL| NULL| NULL|  NULL|   NULL|    NULL|    NULL|     NULL|  NULL|   NULL|  NULL|   NULL|   NULL|    NULL|    NULL|     NULL|   NULL|    NULL|      NULL|      NULL|     NULL|      NULL|     NULL|      NULL|   NULL|    NULL|       NULL|        NULL|NULL|NULL|NULL| NULL|NULL|NULL|NULL| NULL|NULL|NULL|NULL| NULL|NULL|NULL|NULL|NULL|     NULL|      NULL|  NULL|   NULL|   NULL|    NULL|NULL|NULL|NULL| NULL|  NULL|   NULL|     NULL|      NULL|      NULL|       NULL|\n",
            "|7.5104001E7|TOUR ST-JACQUES|48.858333|2.348333|  38|2000010105|0.2|   1|NULL| NULL|2.0|  1|240|  1|NULL|NULL|NULL|NULL|NULL|NULL| 3.0|   1|240|   1|NULL|NULL|NULL|NULL|NULL|NULL|NULL| NULL|NULL| NULL|NULL| NULL| NULL|  NULL| NULL|  NULL|  NULL|   NULL| 8.3|  1|6.8|  1|NULL|NULL|NULL|NULL|NULL|NULL|NULL|NULL|NULL|NULL|NULL|NULL|NULL|NULL|NULL|NULL|NULL| NULL| NULL|  NULL|NULL| NULL|     NULL|      NULL|   NULL|   NULL| 90|  1|NULL|NULL|NULL|NULL|NULL|NULL|NULL|NULL|   NULL|    NULL|   NULL|    NULL| 9.8|   1|NULL| NULL| NULL|  NULL|   NULL|   NULL|NULL| NULL|NULL|NULL|NULL| NULL|NULL|NULL|NULL|NULL|NULL|NULL|NULL|NULL|NULL|NULL|NULL|NULL|NULL|NULL|NULL|NULL|NULL|NULL|NULL|NULL|NULL|NULL|NULL|NULL|NULL|NULL|NULL|NULL|NULL|NULL|NULL|NULL|  NULL|   NULL|NULL|NULL|NULL|NULL|NULL|NULL|NULL|NULL| NULL|  NULL|NULL| NULL| NULL|  NULL|   NULL|    NULL|    NULL|     NULL|  NULL|   NULL|  NULL|   NULL|   NULL|    NULL|    NULL|     NULL|   NULL|    NULL|      NULL|      NULL|     NULL|      NULL|     NULL|      NULL|   NULL|    NULL|       NULL|        NULL|NULL|NULL|NULL| NULL|NULL|NULL|NULL| NULL|NULL|NULL|NULL| NULL|NULL|NULL|NULL|NULL|     NULL|      NULL|  NULL|   NULL|   NULL|    NULL|NULL|NULL|NULL| NULL|  NULL|   NULL|     NULL|      NULL|      NULL|       NULL|\n",
            "|7.5104001E7|TOUR ST-JACQUES|48.858333|2.348333|  38|2000010106|0.6|   1|NULL| NULL|2.0|  1|260|  1|NULL|NULL|NULL|NULL|NULL|NULL| 4.0|   1|280|   1|NULL|NULL|NULL|NULL|NULL|NULL|NULL| NULL|NULL| NULL|NULL| NULL| NULL|  NULL| NULL|  NULL|  NULL|   NULL| 8.4|  1|7.2|  1|NULL|NULL|NULL|NULL|NULL|NULL|NULL|NULL|NULL|NULL|NULL|NULL|NULL|NULL|NULL|NULL|NULL| NULL| NULL|  NULL|NULL| NULL|     NULL|      NULL|   NULL|   NULL| 92|  1|NULL|NULL|NULL|NULL|NULL|NULL|NULL|NULL|   NULL|    NULL|   NULL|    NULL|10.1|   1|NULL| NULL| NULL|  NULL|   NULL|   NULL|NULL| NULL|NULL|NULL|NULL| NULL|NULL|NULL|NULL|NULL|NULL|NULL|NULL|NULL|NULL|NULL|NULL|NULL|NULL|NULL|NULL|NULL|NULL|NULL|NULL|NULL|NULL|NULL|NULL|NULL|NULL|NULL|NULL|NULL|NULL|NULL|NULL|NULL|  NULL|   NULL|NULL|NULL|NULL|NULL|NULL|NULL|NULL|NULL| NULL|  NULL|NULL| NULL| NULL|  NULL|   NULL|    NULL|    NULL|     NULL|  NULL|   NULL|  NULL|   NULL|   NULL|    NULL|    NULL|     NULL|   NULL|    NULL|      NULL|      NULL|     NULL|      NULL|     NULL|      NULL|   NULL|    NULL|       NULL|        NULL|NULL|NULL|NULL| NULL|NULL|NULL|NULL| NULL|NULL|NULL|NULL| NULL|NULL|NULL|NULL|NULL|     NULL|      NULL|  NULL|   NULL|   NULL|    NULL|NULL|NULL|NULL| NULL|  NULL|   NULL|     NULL|      NULL|      NULL|       NULL|\n",
            "|7.5104001E7|TOUR ST-JACQUES|48.858333|2.348333|  38|2000010107|0.0|   1|NULL| NULL|2.0|  1|280|  1|NULL|NULL|NULL|NULL|NULL|NULL| 4.0|   1|300|   1|NULL|NULL|NULL|NULL|NULL|NULL|NULL| NULL|NULL| NULL|NULL| NULL| NULL|  NULL| NULL|  NULL|  NULL|   NULL| 8.7|  1|7.3|  1|NULL|NULL|NULL|NULL|NULL|NULL|NULL|NULL|NULL|NULL|NULL|NULL|NULL|NULL|NULL|NULL|NULL| NULL| NULL|  NULL|NULL| NULL|     NULL|      NULL|   NULL|   NULL| 91|  1|NULL|NULL|NULL|NULL|NULL|NULL|NULL|NULL|   NULL|    NULL|   NULL|    NULL|10.2|   1|NULL| NULL| NULL|  NULL|   NULL|   NULL|NULL| NULL|NULL|NULL|NULL| NULL|NULL|NULL|NULL|NULL|NULL|NULL|NULL|NULL|NULL|NULL|NULL|NULL|NULL|NULL|NULL|NULL|NULL|NULL|NULL|NULL|NULL|NULL|NULL|NULL|NULL|NULL|NULL|NULL|NULL|NULL|NULL|NULL|  NULL|   NULL|NULL|NULL|NULL|NULL|NULL|NULL|NULL|NULL| NULL|  NULL|NULL| NULL| NULL|  NULL|   NULL|    NULL|    NULL|     NULL|  NULL|   NULL|  NULL|   NULL|   NULL|    NULL|    NULL|     NULL|   NULL|    NULL|      NULL|      NULL|     NULL|      NULL|     NULL|      NULL|   NULL|    NULL|       NULL|        NULL|NULL|NULL|NULL| NULL|NULL|NULL|NULL| NULL|NULL|NULL|NULL| NULL|NULL|NULL|NULL|NULL|     NULL|      NULL|  NULL|   NULL|   NULL|    NULL|NULL|NULL|NULL| NULL|  NULL|   NULL|     NULL|      NULL|      NULL|       NULL|\n",
            "|7.5104001E7|TOUR ST-JACQUES|48.858333|2.348333|  38|2000010108|0.0|   1|NULL| NULL|3.0|  1|290|  1|NULL|NULL|NULL|NULL|NULL|NULL| 5.0|   1|280|   1|NULL|NULL|NULL|NULL|NULL|NULL|NULL| NULL|NULL| NULL|NULL| NULL| NULL|  NULL| NULL|  NULL|  NULL|   NULL| 9.0|  1|7.6|  1|NULL|NULL|NULL|NULL|NULL|NULL|NULL|NULL|NULL|NULL|NULL|NULL|NULL|NULL|NULL|NULL|NULL| NULL| NULL|  NULL|NULL| NULL|     NULL|      NULL|   NULL|   NULL| 91|  1|NULL|NULL|NULL|NULL|NULL|NULL|NULL|NULL|   NULL|    NULL|   NULL|    NULL|10.4|   1|NULL| NULL| NULL|  NULL|   NULL|   NULL|NULL| NULL|NULL|NULL|NULL| NULL|NULL|NULL|NULL|NULL|NULL|NULL|NULL|NULL|NULL|NULL|NULL|NULL|NULL|NULL|NULL|NULL|NULL|NULL|NULL|NULL|NULL|NULL|NULL|NULL|NULL|NULL|NULL|NULL|NULL|NULL|NULL|NULL|  NULL|   NULL|NULL|NULL|NULL|NULL|NULL|NULL|NULL|NULL| NULL|  NULL|NULL| NULL| NULL|  NULL|   NULL|    NULL|    NULL|     NULL|  NULL|   NULL|  NULL|   NULL|   NULL|    NULL|    NULL|     NULL|   NULL|    NULL|      NULL|      NULL|     NULL|      NULL|     NULL|      NULL|   NULL|    NULL|       NULL|        NULL|NULL|NULL|NULL| NULL|NULL|NULL|NULL| NULL|NULL|NULL|NULL| NULL|NULL|NULL|NULL|NULL|     NULL|      NULL|  NULL|   NULL|   NULL|    NULL|NULL|NULL|NULL| NULL|  NULL|   NULL|     NULL|      NULL|      NULL|       NULL|\n",
            "|7.5104001E7|TOUR ST-JACQUES|48.858333|2.348333|  38|2000010109|0.0|   1|NULL| NULL|3.0|  1|290|  1|NULL|NULL|NULL|NULL|NULL|NULL| 5.0|   1|300|   1|NULL|NULL|NULL|NULL|NULL|NULL|NULL| NULL|NULL| NULL|NULL| NULL| NULL|  NULL| NULL|  NULL|  NULL|   NULL| 9.3|  1|7.7|  1|NULL|NULL|NULL|NULL|NULL|NULL|NULL|NULL|NULL|NULL|NULL|NULL|NULL|NULL|NULL|NULL|NULL| NULL| NULL|  NULL|NULL| NULL|     NULL|      NULL|   NULL|   NULL| 90|  1|NULL|NULL|NULL|NULL|NULL|NULL|NULL|NULL|   NULL|    NULL|   NULL|    NULL|10.5|   1|NULL| NULL| NULL|  NULL|   NULL|   NULL|NULL| NULL|NULL|NULL|NULL| NULL|NULL|NULL|NULL|NULL|NULL|NULL|NULL|NULL|NULL|NULL|NULL|NULL|NULL|NULL|NULL|NULL|NULL|NULL|NULL|NULL|NULL|NULL|NULL|NULL|NULL|NULL|NULL|NULL|NULL|NULL|NULL|NULL|  NULL|   NULL|NULL|NULL|NULL|NULL|NULL|NULL|NULL|NULL| NULL|  NULL|NULL| NULL| NULL|  NULL|   NULL|    NULL|    NULL|     NULL|  NULL|   NULL|  NULL|   NULL|   NULL|    NULL|    NULL|     NULL|   NULL|    NULL|      NULL|      NULL|     NULL|      NULL|     NULL|      NULL|   NULL|    NULL|       NULL|        NULL|NULL|NULL|NULL| NULL|NULL|NULL|NULL| NULL|NULL|NULL|NULL| NULL|NULL|NULL|NULL|NULL|     NULL|      NULL|  NULL|   NULL|   NULL|    NULL|NULL|NULL|NULL| NULL|  NULL|   NULL|     NULL|      NULL|      NULL|       NULL|\n",
            "|7.5104001E7|TOUR ST-JACQUES|48.858333|2.348333|  38|2000010110|0.0|   1|NULL| NULL|4.0|  1|300|  1|NULL|NULL|NULL|NULL|NULL|NULL| 6.0|   1|300|   1|NULL|NULL|NULL|NULL|NULL|NULL|NULL| NULL|NULL| NULL|NULL| NULL| NULL|  NULL| NULL|  NULL|  NULL|   NULL| 9.6|  1|7.7|  1|NULL|NULL|NULL|NULL|NULL|NULL|NULL|NULL|NULL|NULL|NULL|NULL|NULL|NULL|NULL|NULL|NULL| NULL| NULL|  NULL|NULL| NULL|     NULL|      NULL|   NULL|   NULL| 88|  1|NULL|NULL|NULL|NULL|NULL|NULL|NULL|NULL|   NULL|    NULL|   NULL|    NULL|10.5|   1|NULL| NULL| NULL|  NULL|   NULL|   NULL|NULL| NULL|NULL|NULL|NULL| NULL|NULL|NULL|NULL|NULL|NULL|NULL|NULL|NULL|NULL|NULL|NULL|NULL|NULL|NULL|NULL|NULL|NULL|NULL|NULL|NULL|NULL|NULL|NULL|NULL|NULL|NULL|NULL|NULL|NULL|NULL|NULL|NULL|  NULL|   NULL|NULL|NULL|NULL|NULL|NULL|NULL|NULL|NULL| NULL|  NULL|NULL| NULL| NULL|  NULL|   NULL|    NULL|    NULL|     NULL|  NULL|   NULL|  NULL|   NULL|   NULL|    NULL|    NULL|     NULL|   NULL|    NULL|      NULL|      NULL|     NULL|      NULL|     NULL|      NULL|   NULL|    NULL|       NULL|        NULL|NULL|NULL|NULL| NULL|NULL|NULL|NULL| NULL|NULL|NULL|NULL| NULL|NULL|NULL|NULL|NULL|     NULL|      NULL|  NULL|   NULL|   NULL|    NULL|NULL|NULL|NULL| NULL|  NULL|   NULL|     NULL|      NULL|      NULL|       NULL|\n",
            "|7.5104001E7|TOUR ST-JACQUES|48.858333|2.348333|  38|2000010111|0.0|   1|NULL| NULL|3.0|  1|290|  1|NULL|NULL|NULL|NULL|NULL|NULL| 6.0|   1|300|   1|NULL|NULL|NULL|NULL|NULL|NULL|NULL| NULL|NULL| NULL|NULL| NULL| NULL|  NULL| NULL|  NULL|  NULL|   NULL| 9.9|  1|7.8|  1|NULL|NULL|NULL|NULL|NULL|NULL|NULL|NULL|NULL|NULL|NULL|NULL|NULL|NULL|NULL|NULL|NULL| NULL| NULL|  NULL|NULL| NULL|     NULL|      NULL|   NULL|   NULL| 87|  1|NULL|NULL|NULL|NULL|NULL|NULL|NULL|NULL|   NULL|    NULL|   NULL|    NULL|10.5|   1|NULL| NULL| NULL|  NULL|   NULL|   NULL|NULL| NULL|NULL|NULL|NULL| NULL|NULL|NULL|NULL|NULL|NULL|NULL|NULL|NULL|NULL|NULL|NULL|NULL|NULL|NULL|NULL|NULL|NULL|NULL|NULL|NULL|NULL|NULL|NULL|NULL|NULL|NULL|NULL|NULL|NULL|NULL|NULL|NULL|  NULL|   NULL|NULL|NULL|NULL|NULL|NULL|NULL|NULL|NULL| NULL|  NULL|NULL| NULL| NULL|  NULL|   NULL|    NULL|    NULL|     NULL|  NULL|   NULL|  NULL|   NULL|   NULL|    NULL|    NULL|     NULL|   NULL|    NULL|      NULL|      NULL|     NULL|      NULL|     NULL|      NULL|   NULL|    NULL|       NULL|        NULL|NULL|NULL|NULL| NULL|NULL|NULL|NULL| NULL|NULL|NULL|NULL| NULL|NULL|NULL|NULL|NULL|     NULL|      NULL|  NULL|   NULL|   NULL|    NULL|NULL|NULL|NULL| NULL|  NULL|   NULL|     NULL|      NULL|      NULL|       NULL|\n",
            "|7.5104001E7|TOUR ST-JACQUES|48.858333|2.348333|  38|2000010112|0.0|   1|NULL| NULL|4.0|  1|290|  1|NULL|NULL|NULL|NULL|NULL|NULL| 6.0|   1|280|   1|NULL|NULL|NULL|NULL|NULL|NULL|NULL| NULL|NULL| NULL|NULL| NULL| NULL|  NULL| NULL|  NULL|  NULL|   NULL|10.1|  1|7.7|  1|NULL|NULL|NULL|NULL|NULL|NULL|NULL|NULL|NULL|NULL|NULL|NULL|NULL|NULL|NULL|NULL|NULL| NULL| NULL|  NULL|NULL| NULL|     NULL|      NULL|   NULL|   NULL| 85|  1|NULL|NULL|NULL|NULL|NULL|NULL|NULL|NULL|   NULL|    NULL|   NULL|    NULL|10.5|   1|NULL| NULL| NULL|  NULL|   NULL|   NULL|NULL| NULL|NULL|NULL|NULL| NULL|NULL|NULL|NULL|NULL|NULL|NULL|NULL|NULL|NULL|NULL|NULL|NULL|NULL|NULL|NULL|NULL|NULL|NULL|NULL|NULL|NULL|NULL|NULL|NULL|NULL|NULL|NULL|NULL|NULL|NULL|NULL|NULL|  NULL|   NULL|NULL|NULL|NULL|NULL|NULL|NULL|NULL|NULL| NULL|  NULL|NULL| NULL| NULL|  NULL|   NULL|    NULL|    NULL|     NULL|  NULL|   NULL|  NULL|   NULL|   NULL|    NULL|    NULL|     NULL|   NULL|    NULL|      NULL|      NULL|     NULL|      NULL|     NULL|      NULL|   NULL|    NULL|       NULL|        NULL|NULL|NULL|NULL| NULL|NULL|NULL|NULL| NULL|NULL|NULL|NULL| NULL|NULL|NULL|NULL|NULL|     NULL|      NULL|  NULL|   NULL|   NULL|    NULL|NULL|NULL|NULL| NULL|  NULL|   NULL|     NULL|      NULL|      NULL|       NULL|\n",
            "|7.5104001E7|TOUR ST-JACQUES|48.858333|2.348333|  38|2000010113|0.0|   1|NULL| NULL|3.0|  1|290|  1|NULL|NULL|NULL|NULL|NULL|NULL| 6.0|   1|280|   1|NULL|NULL|NULL|NULL|NULL|NULL|NULL| NULL|NULL| NULL|NULL| NULL| NULL|  NULL| NULL|  NULL|  NULL|   NULL|10.2|  1|7.8|  1|NULL|NULL|NULL|NULL|NULL|NULL|NULL|NULL|NULL|NULL|NULL|NULL|NULL|NULL|NULL|NULL|NULL| NULL| NULL|  NULL|NULL| NULL|     NULL|      NULL|   NULL|   NULL| 85|  1|NULL|NULL|NULL|NULL|NULL|NULL|NULL|NULL|   NULL|    NULL|   NULL|    NULL|10.5|   1|NULL| NULL| NULL|  NULL|   NULL|   NULL|NULL| NULL|NULL|NULL|NULL| NULL|NULL|NULL|NULL|NULL|NULL|NULL|NULL|NULL|NULL|NULL|NULL|NULL|NULL|NULL|NULL|NULL|NULL|NULL|NULL|NULL|NULL|NULL|NULL|NULL|NULL|NULL|NULL|NULL|NULL|NULL|NULL|NULL|  NULL|   NULL|NULL|NULL|NULL|NULL|NULL|NULL|NULL|NULL| NULL|  NULL|NULL| NULL| NULL|  NULL|   NULL|    NULL|    NULL|     NULL|  NULL|   NULL|  NULL|   NULL|   NULL|    NULL|    NULL|     NULL|   NULL|    NULL|      NULL|      NULL|     NULL|      NULL|     NULL|      NULL|   NULL|    NULL|       NULL|        NULL|NULL|NULL|NULL| NULL|NULL|NULL|NULL| NULL|NULL|NULL|NULL| NULL|NULL|NULL|NULL|NULL|     NULL|      NULL|  NULL|   NULL|   NULL|    NULL|NULL|NULL|NULL| NULL|  NULL|   NULL|     NULL|      NULL|      NULL|       NULL|\n",
            "|7.5104001E7|TOUR ST-JACQUES|48.858333|2.348333|  38|2000010114|0.0|   1|NULL| NULL|3.0|  1|280|  1|NULL|NULL|NULL|NULL|NULL|NULL| 4.0|   1|280|   1|NULL|NULL|NULL|NULL|NULL|NULL|NULL| NULL|NULL| NULL|NULL| NULL| NULL|  NULL| NULL|  NULL|  NULL|   NULL|10.2|  1|8.3|  1|NULL|NULL|NULL|NULL|NULL|NULL|NULL|NULL|NULL|NULL|NULL|NULL|NULL|NULL|NULL|NULL|NULL| NULL| NULL|  NULL|NULL| NULL|     NULL|      NULL|   NULL|   NULL| 88|  1|NULL|NULL|NULL|NULL|NULL|NULL|NULL|NULL|   NULL|    NULL|   NULL|    NULL|10.9|   1|NULL| NULL| NULL|  NULL|   NULL|   NULL|NULL| NULL|NULL|NULL|NULL| NULL|NULL|NULL|NULL|NULL|NULL|NULL|NULL|NULL|NULL|NULL|NULL|NULL|NULL|NULL|NULL|NULL|NULL|NULL|NULL|NULL|NULL|NULL|NULL|NULL|NULL|NULL|NULL|NULL|NULL|NULL|NULL|NULL|  NULL|   NULL|NULL|NULL|NULL|NULL|NULL|NULL|NULL|NULL| NULL|  NULL|NULL| NULL| NULL|  NULL|   NULL|    NULL|    NULL|     NULL|  NULL|   NULL|  NULL|   NULL|   NULL|    NULL|    NULL|     NULL|   NULL|    NULL|      NULL|      NULL|     NULL|      NULL|     NULL|      NULL|   NULL|    NULL|       NULL|        NULL|NULL|NULL|NULL| NULL|NULL|NULL|NULL| NULL|NULL|NULL|NULL| NULL|NULL|NULL|NULL|NULL|     NULL|      NULL|  NULL|   NULL|   NULL|    NULL|NULL|NULL|NULL| NULL|  NULL|   NULL|     NULL|      NULL|      NULL|       NULL|\n",
            "|7.5104001E7|TOUR ST-JACQUES|48.858333|2.348333|  38|2000010115|0.0|   1|NULL| NULL|4.0|  1|280|  1|NULL|NULL|NULL|NULL|NULL|NULL| 5.0|   1|260|   1|NULL|NULL|NULL|NULL|NULL|NULL|NULL| NULL|NULL| NULL|NULL| NULL| NULL|  NULL| NULL|  NULL|  NULL|   NULL|10.3|  1|8.2|  1|NULL|NULL|NULL|NULL|NULL|NULL|NULL|NULL|NULL|NULL|NULL|NULL|NULL|NULL|NULL|NULL|NULL| NULL| NULL|  NULL|NULL| NULL|     NULL|      NULL|   NULL|   NULL| 87|  1|NULL|NULL|NULL|NULL|NULL|NULL|NULL|NULL|   NULL|    NULL|   NULL|    NULL|10.8|   1|NULL| NULL| NULL|  NULL|   NULL|   NULL|NULL| NULL|NULL|NULL|NULL| NULL|NULL|NULL|NULL|NULL|NULL|NULL|NULL|NULL|NULL|NULL|NULL|NULL|NULL|NULL|NULL|NULL|NULL|NULL|NULL|NULL|NULL|NULL|NULL|NULL|NULL|NULL|NULL|NULL|NULL|NULL|NULL|NULL|  NULL|   NULL|NULL|NULL|NULL|NULL|NULL|NULL|NULL|NULL| NULL|  NULL|NULL| NULL| NULL|  NULL|   NULL|    NULL|    NULL|     NULL|  NULL|   NULL|  NULL|   NULL|   NULL|    NULL|    NULL|     NULL|   NULL|    NULL|      NULL|      NULL|     NULL|      NULL|     NULL|      NULL|   NULL|    NULL|       NULL|        NULL|NULL|NULL|NULL| NULL|NULL|NULL|NULL| NULL|NULL|NULL|NULL| NULL|NULL|NULL|NULL|NULL|     NULL|      NULL|  NULL|   NULL|   NULL|    NULL|NULL|NULL|NULL| NULL|  NULL|   NULL|     NULL|      NULL|      NULL|       NULL|\n",
            "|7.5104001E7|TOUR ST-JACQUES|48.858333|2.348333|  38|2000010116|0.0|   1|NULL| NULL|3.0|  1|300|  1|NULL|NULL|NULL|NULL|NULL|NULL| 5.0|   1|280|   1|NULL|NULL|NULL|NULL|NULL|NULL|NULL| NULL|NULL| NULL|NULL| NULL| NULL|  NULL| NULL|  NULL|  NULL|   NULL|10.2|  1|8.3|  1|NULL|NULL|NULL|NULL|NULL|NULL|NULL|NULL|NULL|NULL|NULL|NULL|NULL|NULL|NULL|NULL|NULL| NULL| NULL|  NULL|NULL| NULL|     NULL|      NULL|   NULL|   NULL| 88|  1|NULL|NULL|NULL|NULL|NULL|NULL|NULL|NULL|   NULL|    NULL|   NULL|    NULL|10.9|   1|NULL| NULL| NULL|  NULL|   NULL|   NULL|NULL| NULL|NULL|NULL|NULL| NULL|NULL|NULL|NULL|NULL|NULL|NULL|NULL|NULL|NULL|NULL|NULL|NULL|NULL|NULL|NULL|NULL|NULL|NULL|NULL|NULL|NULL|NULL|NULL|NULL|NULL|NULL|NULL|NULL|NULL|NULL|NULL|NULL|  NULL|   NULL|NULL|NULL|NULL|NULL|NULL|NULL|NULL|NULL| NULL|  NULL|NULL| NULL| NULL|  NULL|   NULL|    NULL|    NULL|     NULL|  NULL|   NULL|  NULL|   NULL|   NULL|    NULL|    NULL|     NULL|   NULL|    NULL|      NULL|      NULL|     NULL|      NULL|     NULL|      NULL|   NULL|    NULL|       NULL|        NULL|NULL|NULL|NULL| NULL|NULL|NULL|NULL| NULL|NULL|NULL|NULL| NULL|NULL|NULL|NULL|NULL|     NULL|      NULL|  NULL|   NULL|   NULL|    NULL|NULL|NULL|NULL| NULL|  NULL|   NULL|     NULL|      NULL|      NULL|       NULL|\n",
            "|7.5104001E7|TOUR ST-JACQUES|48.858333|2.348333|  38|2000010117|0.0|   1|NULL| NULL|2.0|  1|290|  1|NULL|NULL|NULL|NULL|NULL|NULL| 5.0|   1|300|   1|NULL|NULL|NULL|NULL|NULL|NULL|NULL| NULL|NULL| NULL|NULL| NULL| NULL|  NULL| NULL|  NULL|  NULL|   NULL|10.4|  1|8.5|  1|NULL|NULL|NULL|NULL|NULL|NULL|NULL|NULL|NULL|NULL|NULL|NULL|NULL|NULL|NULL|NULL|NULL| NULL| NULL|  NULL|NULL| NULL|     NULL|      NULL|   NULL|   NULL| 88|  1|NULL|NULL|NULL|NULL|NULL|NULL|NULL|NULL|   NULL|    NULL|   NULL|    NULL|11.0|   1|NULL| NULL| NULL|  NULL|   NULL|   NULL|NULL| NULL|NULL|NULL|NULL| NULL|NULL|NULL|NULL|NULL|NULL|NULL|NULL|NULL|NULL|NULL|NULL|NULL|NULL|NULL|NULL|NULL|NULL|NULL|NULL|NULL|NULL|NULL|NULL|NULL|NULL|NULL|NULL|NULL|NULL|NULL|NULL|NULL|  NULL|   NULL|NULL|NULL|NULL|NULL|NULL|NULL|NULL|NULL| NULL|  NULL|NULL| NULL| NULL|  NULL|   NULL|    NULL|    NULL|     NULL|  NULL|   NULL|  NULL|   NULL|   NULL|    NULL|    NULL|     NULL|   NULL|    NULL|      NULL|      NULL|     NULL|      NULL|     NULL|      NULL|   NULL|    NULL|       NULL|        NULL|NULL|NULL|NULL| NULL|NULL|NULL|NULL| NULL|NULL|NULL|NULL| NULL|NULL|NULL|NULL|NULL|     NULL|      NULL|  NULL|   NULL|   NULL|    NULL|NULL|NULL|NULL| NULL|  NULL|   NULL|     NULL|      NULL|      NULL|       NULL|\n",
            "|7.5104001E7|TOUR ST-JACQUES|48.858333|2.348333|  38|2000010118|0.0|   1|NULL| NULL|2.0|  1|290|  1|NULL|NULL|NULL|NULL|NULL|NULL| 5.0|   1|300|   1|NULL|NULL|NULL|NULL|NULL|NULL|NULL| NULL|NULL| NULL|NULL| NULL| NULL|  NULL| NULL|  NULL|  NULL|   NULL|10.5|  1|8.4|  1|NULL|NULL|NULL|NULL|NULL|NULL|NULL|NULL|NULL|NULL|NULL|NULL|NULL|NULL|NULL|NULL|NULL| NULL| NULL|  NULL|NULL| NULL|     NULL|      NULL|   NULL|   NULL| 87|  1|NULL|NULL|NULL|NULL|NULL|NULL|NULL|NULL|   NULL|    NULL|   NULL|    NULL|11.0|   1|NULL| NULL| NULL|  NULL|   NULL|   NULL|NULL| NULL|NULL|NULL|NULL| NULL|NULL|NULL|NULL|NULL|NULL|NULL|NULL|NULL|NULL|NULL|NULL|NULL|NULL|NULL|NULL|NULL|NULL|NULL|NULL|NULL|NULL|NULL|NULL|NULL|NULL|NULL|NULL|NULL|NULL|NULL|NULL|NULL|  NULL|   NULL|NULL|NULL|NULL|NULL|NULL|NULL|NULL|NULL| NULL|  NULL|NULL| NULL| NULL|  NULL|   NULL|    NULL|    NULL|     NULL|  NULL|   NULL|  NULL|   NULL|   NULL|    NULL|    NULL|     NULL|   NULL|    NULL|      NULL|      NULL|     NULL|      NULL|     NULL|      NULL|   NULL|    NULL|       NULL|        NULL|NULL|NULL|NULL| NULL|NULL|NULL|NULL| NULL|NULL|NULL|NULL| NULL|NULL|NULL|NULL|NULL|     NULL|      NULL|  NULL|   NULL|   NULL|    NULL|NULL|NULL|NULL| NULL|  NULL|   NULL|     NULL|      NULL|      NULL|       NULL|\n",
            "|7.5104001E7|TOUR ST-JACQUES|48.858333|2.348333|  38|2000010119|0.0|   1|NULL| NULL|2.0|  1|310|  1|NULL|NULL|NULL|NULL|NULL|NULL| 3.0|   1|300|   1|NULL|NULL|NULL|NULL|NULL|NULL|NULL| NULL|NULL| NULL|NULL| NULL| NULL|  NULL| NULL|  NULL|  NULL|   NULL|10.7|  1|8.5|  1|NULL|NULL|NULL|NULL|NULL|NULL|NULL|NULL|NULL|NULL|NULL|NULL|NULL|NULL|NULL|NULL|NULL| NULL| NULL|  NULL|NULL| NULL|     NULL|      NULL|   NULL|   NULL| 86|  1|NULL|NULL|NULL|NULL|NULL|NULL|NULL|NULL|   NULL|    NULL|   NULL|    NULL|11.0|   1|NULL| NULL| NULL|  NULL|   NULL|   NULL|NULL| NULL|NULL|NULL|NULL| NULL|NULL|NULL|NULL|NULL|NULL|NULL|NULL|NULL|NULL|NULL|NULL|NULL|NULL|NULL|NULL|NULL|NULL|NULL|NULL|NULL|NULL|NULL|NULL|NULL|NULL|NULL|NULL|NULL|NULL|NULL|NULL|NULL|  NULL|   NULL|NULL|NULL|NULL|NULL|NULL|NULL|NULL|NULL| NULL|  NULL|NULL| NULL| NULL|  NULL|   NULL|    NULL|    NULL|     NULL|  NULL|   NULL|  NULL|   NULL|   NULL|    NULL|    NULL|     NULL|   NULL|    NULL|      NULL|      NULL|     NULL|      NULL|     NULL|      NULL|   NULL|    NULL|       NULL|        NULL|NULL|NULL|NULL| NULL|NULL|NULL|NULL| NULL|NULL|NULL|NULL| NULL|NULL|NULL|NULL|NULL|     NULL|      NULL|  NULL|   NULL|   NULL|    NULL|NULL|NULL|NULL| NULL|  NULL|   NULL|     NULL|      NULL|      NULL|       NULL|\n",
            "+-----------+---------------+---------+--------+----+----------+---+----+----+-----+---+---+---+---+----+----+----+----+----+----+----+----+---+----+----+----+----+----+----+----+----+-----+----+-----+----+-----+-----+------+-----+------+------+-------+----+---+---+---+----+----+----+----+----+----+----+----+----+----+----+----+----+----+----+----+----+-----+-----+------+----+-----+---------+----------+-------+-------+---+---+----+----+----+----+----+----+----+----+-------+--------+-------+--------+----+----+----+-----+-----+------+-------+-------+----+-----+----+----+----+-----+----+----+----+----+----+----+----+----+----+----+----+----+----+----+----+----+----+----+----+----+----+----+----+----+----+----+----+----+----+----+----+----+------+-------+----+----+----+----+----+----+----+----+-----+------+----+-----+-----+------+-------+--------+--------+---------+------+-------+------+-------+-------+--------+--------+---------+-------+--------+----------+----------+---------+----------+---------+----------+-------+--------+-----------+------------+----+----+----+-----+----+----+----+-----+----+----+----+-----+----+----+----+----+---------+----------+------+-------+-------+--------+----+----+----+-----+------+-------+---------+----------+----------+-----------+\n",
            "only showing top 20 rows\n",
            "\n"
          ]
        }
      ],
      "source": [
        "data.open_file(file_path=\"/content/H_75__combined.csv\")"
      ]
    },
    {
      "cell_type": "code",
      "execution_count": 9,
      "metadata": {
        "colab": {
          "base_uri": "https://localhost:8080/"
        },
        "id": "FOmGG-EjD9uu",
        "outputId": "df5dc4cf-c04a-4141-de2f-d60ec1574ac3"
      },
      "outputs": [
        {
          "output_type": "stream",
          "name": "stdout",
          "text": [
            "DataFrame after selecting columns:\n",
            "+---------+--------+----------+---+---+----+\n",
            "|      LAT|     LON|AAAAMMJJHH|RR1| FF|TN50|\n",
            "+---------+--------+----------+---+---+----+\n",
            "|48.858333|2.348333|2000010100|0.0|1.0|NULL|\n",
            "|48.858333|2.348333|2000010101|0.0|1.0|NULL|\n",
            "|48.858333|2.348333|2000010102|0.0|1.0|NULL|\n",
            "|48.858333|2.348333|2000010103|0.0|4.0|NULL|\n",
            "|48.858333|2.348333|2000010104|0.0|3.0|NULL|\n",
            "|48.858333|2.348333|2000010105|0.2|2.0|NULL|\n",
            "|48.858333|2.348333|2000010106|0.6|2.0|NULL|\n",
            "|48.858333|2.348333|2000010107|0.0|2.0|NULL|\n",
            "|48.858333|2.348333|2000010108|0.0|3.0|NULL|\n",
            "|48.858333|2.348333|2000010109|0.0|3.0|NULL|\n",
            "|48.858333|2.348333|2000010110|0.0|4.0|NULL|\n",
            "|48.858333|2.348333|2000010111|0.0|3.0|NULL|\n",
            "|48.858333|2.348333|2000010112|0.0|4.0|NULL|\n",
            "|48.858333|2.348333|2000010113|0.0|3.0|NULL|\n",
            "|48.858333|2.348333|2000010114|0.0|3.0|NULL|\n",
            "|48.858333|2.348333|2000010115|0.0|4.0|NULL|\n",
            "|48.858333|2.348333|2000010116|0.0|3.0|NULL|\n",
            "|48.858333|2.348333|2000010117|0.0|2.0|NULL|\n",
            "|48.858333|2.348333|2000010118|0.0|2.0|NULL|\n",
            "|48.858333|2.348333|2000010119|0.0|2.0|NULL|\n",
            "+---------+--------+----------+---+---+----+\n",
            "only showing top 20 rows\n",
            "\n"
          ]
        }
      ],
      "source": [
        "data.select_columns(columns_state=False)"
      ]
    },
    {
      "cell_type": "code",
      "execution_count": 10,
      "metadata": {
        "colab": {
          "base_uri": "https://localhost:8080/"
        },
        "id": "bYcjCJChuM21",
        "outputId": "d195f3df-6efd-449f-bf95-e7676143de2c"
      },
      "outputs": [
        {
          "output_type": "stream",
          "name": "stdout",
          "text": [
            "Column 'LAT' has no null values.\n",
            "\n",
            "Column 'LON' has no null values.\n",
            "\n",
            "Column 'AAAAMMJJHH' has no null values.\n",
            "\n",
            "Column 'RR1' has 84239 null values for 91.67374034171291.\n",
            "\n",
            "Column 'FF' has 22060 null values for 24.006964849276308.\n",
            "\n",
            "Column 'TN50' has 90170 null values for 98.12819675699205.\n",
            "\n"
          ]
        }
      ],
      "source": [
        "data.check_all_columns_null()"
      ]
    },
    {
      "cell_type": "code",
      "execution_count": 11,
      "metadata": {
        "colab": {
          "base_uri": "https://localhost:8080/"
        },
        "id": "fwkXGln-1Es3",
        "outputId": "3cdd64a9-0ce3-440d-b871-d35d0519ae24"
      },
      "outputs": [
        {
          "output_type": "stream",
          "name": "stdout",
          "text": [
            "+---------+-----+\n",
            "|      LAT|count|\n",
            "+---------+-----+\n",
            "|48.858333|90150|\n",
            "|48.844667|    1|\n",
            "|   48.835|    4|\n",
            "|48.848167|    5|\n",
            "|48.819833|    5|\n",
            "|48.831667|    4|\n",
            "|48.821667| 1721|\n",
            "+---------+-----+\n",
            "\n"
          ]
        }
      ],
      "source": [
        "data.df.groupBy(['LAT']).count().show()"
      ]
    },
    {
      "cell_type": "code",
      "source": [
        "data.df.groupBy(['LON']).count().show()"
      ],
      "metadata": {
        "colab": {
          "base_uri": "https://localhost:8080/"
        },
        "id": "n2h8aQSKDJ1w",
        "outputId": "0e0e15aa-391a-4987-ece2-39d562c43011"
      },
      "execution_count": 12,
      "outputs": [
        {
          "output_type": "stream",
          "name": "stdout",
          "text": [
            "+--------+-----+\n",
            "|     LON|count|\n",
            "+--------+-----+\n",
            "|2.348333| 5954|\n",
            "|  2.2945|84196|\n",
            "|2.333833|    1|\n",
            "|2.337833| 1721|\n",
            "|2.380833|    5|\n",
            "|  2.4375|    4|\n",
            "|2.411667|    4|\n",
            "|2.456833|    5|\n",
            "+--------+-----+\n",
            "\n"
          ]
        }
      ]
    }
  ],
  "metadata": {
    "colab": {
      "provenance": [],
      "mount_file_id": "1YI83-qPcROMSM0vQvoYfB29JLrxsdUny",
      "authorship_tag": "ABX9TyMasfXK8sOt9Zdf/M58dtY8",
      "include_colab_link": true
    },
    "kernelspec": {
      "display_name": "Python 3",
      "name": "python3"
    },
    "language_info": {
      "name": "python"
    }
  },
  "nbformat": 4,
  "nbformat_minor": 0
}